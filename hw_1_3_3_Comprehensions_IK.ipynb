{
  "cells": [
    {
      "cell_type": "markdown",
      "metadata": {
        "id": "jGTe7raw9lB_"
      },
      "source": [
        "#Домашнє завдання до теми \"Comprehensions в Python\""
      ]
    },
    {
      "cell_type": "markdown",
      "metadata": {
        "id": "grIbI4ZZ7miJ"
      },
      "source": [
        "Для наступних завдань у нас є наступний список:"
      ]
    },
    {
      "cell_type": "code",
      "execution_count": null,
      "metadata": {
        "id": "nFOAtgsP7nnc"
      },
      "outputs": [],
      "source": [
        "numbers = [42, 51, 29, 2, 13, 44, 80, 66, 16]"
      ]
    },
    {
      "cell_type": "markdown",
      "metadata": {
        "id": "_sRe19Ym6zDc"
      },
      "source": [
        "1. Використовуючи цикл `for` cтворіть новий список `numbers_squared`, де кожен елемент списку `numbers` є домноженим на 2.\n",
        "\n",
        "Нагадаю, що фактично коли ми з допомогою циклу отримуємо новий список, то ми спочатку створюємо пустий список, а потім додаємо в нього новий елемент на кожній ітерації.\n",
        "\n",
        "Новий елемент буде в даному випадку результатом домножання чергового елемента вихідного списку `numbers` на 2."
      ]
    },
    {
      "cell_type": "code",
      "execution_count": null,
      "metadata": {
        "id": "-wjepc9xsQhv"
      },
      "outputs": [],
      "source": [
        "number_squared = []"
      ]
    },
    {
      "cell_type": "code",
      "execution_count": null,
      "metadata": {
        "id": "Wtysfi4CsQhw",
        "outputId": "773dd837-eb6c-41bb-ba6c-485b799f59be"
      },
      "outputs": [
        {
          "name": "stdout",
          "output_type": "stream",
          "text": [
            "[84, 102, 58, 4, 26, 88, 160, 132, 32]\n"
          ]
        }
      ],
      "source": [
        "for element in numbers:\n",
        "    numbers_squared = element * 2\n",
        "print(number_squared)"
      ]
    },
    {
      "cell_type": "code",
      "execution_count": null,
      "metadata": {
        "id": "EhGdKWo06nGS",
        "outputId": "f4c1c91a-2903-4eff-c142-66a059b6471d"
      },
      "outputs": [
        {
          "name": "stdout",
          "output_type": "stream",
          "text": [
            "[84, 102, 58, 4, 26, 88, 160, 132, 32]\n"
          ]
        }
      ],
      "source": [
        "number_squared = [element * 2 for element in numbers]\n",
        "print(number_squared)"
      ]
    },
    {
      "cell_type": "markdown",
      "metadata": {
        "id": "XKpWtN8N64np"
      },
      "source": [
        "Очікуваний результат: `[84, 102, 58, 4, 26, 88, 160, 132, 32]`"
      ]
    },
    {
      "cell_type": "markdown",
      "metadata": {
        "id": "aHmdOLkZ7eQ2"
      },
      "source": [
        "2. Використовуючи `list comprehension` cтворіть новий список `numbers_squared_lh`, де кожен елемент списку `numbers` є домноженим 2.\n",
        "Так, операція, яку ми викнуємо над кожним елементом вихідного списку, та сама, що і в попередньому завданні, але інший спосіб отримання результату."
      ]
    },
    {
      "cell_type": "code",
      "execution_count": null,
      "metadata": {
        "id": "fsKlUM9x7T7n",
        "outputId": "9306c156-d57a-4be2-c4ff-354dc568fc14"
      },
      "outputs": [
        {
          "name": "stdout",
          "output_type": "stream",
          "text": [
            "[84, 102, 58, 4, 26, 88, 160, 132, 32]\n"
          ]
        }
      ],
      "source": [
        "numbers_squared_lh = [element * 2 for element in numbers]\n",
        "print(numbers_squared_lh)"
      ]
    },
    {
      "cell_type": "markdown",
      "metadata": {
        "id": "tKpPGIQN7fc5"
      },
      "source": [
        "3. У нас вже є знайдене середнє значення за списком - воно визначене в змінній `numbers_mean`.\n",
        "\n",
        "  Використовуючи цикл, створіть новий список `numbers_gt_mean`, який порівнює кожен елемент з цим середнім значенням за списком за наступним правилом: \"якщо цей елемент спиcку `numbers` є більшим за `numbers_mean`, то запишемо 1, інакше 0\". Виведіть новий список на екран."
      ]
    },
    {
      "cell_type": "code",
      "execution_count": null,
      "metadata": {
        "id": "FKGz-HqgwAdX"
      },
      "outputs": [],
      "source": [
        "numbers_mean = 38.11"
      ]
    },
    {
      "cell_type": "code",
      "execution_count": null,
      "metadata": {
        "id": "obelsT8N72Lp",
        "outputId": "a13fa0ce-8191-4282-d02b-e37ddb2d9cd0"
      },
      "outputs": [
        {
          "name": "stdout",
          "output_type": "stream",
          "text": [
            "1\n",
            "1\n",
            "0\n",
            "0\n",
            "0\n",
            "1\n",
            "1\n",
            "1\n",
            "0\n"
          ]
        }
      ],
      "source": [
        "for element in numbers:\n",
        "    if element > numbers_mean:\n",
        "        print(1)\n",
        "    else:\n",
        "        print(0)"
      ]
    },
    {
      "cell_type": "code",
      "execution_count": null,
      "metadata": {
        "id": "lxFp7FaNsQhx",
        "outputId": "178471b1-9f29-4476-e9a6-960d5e89ef12"
      },
      "outputs": [
        {
          "name": "stdout",
          "output_type": "stream",
          "text": [
            "[1, 1, 0, 0, 0, 1, 1, 1, 0]\n"
          ]
        }
      ],
      "source": [
        "result = []\n",
        "for element in numbers:\n",
        "    if element > numbers_mean:\n",
        "        result.append(1)\n",
        "    else:\n",
        "        result.append(0)\n",
        "print(result)"
      ]
    },
    {
      "cell_type": "markdown",
      "metadata": {
        "id": "kRUDVSRs720X"
      },
      "source": [
        "Очікуваний результат: `[1, 1, 0, 0, 0, 1, 1, 1, 0]`"
      ]
    },
    {
      "cell_type": "markdown",
      "metadata": {
        "id": "dudK-NlE76z8"
      },
      "source": [
        "4. Отримайте список за тим самим правилом, що в завданні 3, тільки тепер з list comprehension. Результат запишіть у змінну `numbers_gt_mean_lc`"
      ]
    },
    {
      "cell_type": "code",
      "execution_count": null,
      "metadata": {
        "id": "kpnfXkUu76Ao",
        "outputId": "908c577b-3bde-48e8-a3f6-10bd7c64cd49"
      },
      "outputs": [
        {
          "name": "stdout",
          "output_type": "stream",
          "text": [
            "[True, True, False, False, False, True, True, True, False]\n"
          ]
        }
      ],
      "source": [
        "numbers_gt_mean_lc = [element > numbers_mean for element in numbers]\n",
        "print(numbers_gt_mean_lc)"
      ]
    },
    {
      "cell_type": "code",
      "execution_count": null,
      "metadata": {
        "scrolled": true,
        "id": "21E67ghAsQhy",
        "outputId": "2d6e7327-b1f3-4494-ec11-1246a4a91fa1"
      },
      "outputs": [
        {
          "name": "stdout",
          "output_type": "stream",
          "text": [
            "[1, 1, 0, 0, 0, 1, 1, 1, 0]\n"
          ]
        }
      ],
      "source": [
        "numbers_gt_mean_lc = [1 if element > numbers_mean else 0 for element in numbers]\n",
        "print(numbers_gt_mean_lc)"
      ]
    },
    {
      "cell_type": "markdown",
      "metadata": {
        "id": "muQmE3Mz8KDx"
      },
      "source": [
        "5. Заданий список `long`. З допомогою циклу створіть словник `n_repeats`, який містить інформацію \"скільки разів повторюється кожен унікальний елемент списку `long`\".\n",
        "Наприклад:\n",
        "```\n",
        "long = [1, 1, 2, 2, 3]\n",
        "# тоді `n_repeats` містить {1: 2, 2: 2, 3: 1}\n",
        "```\n",
        "\n",
        "Аби для кожного унікального елементу знайти, скільки разів він повторюється, виористайте метод списку `list.count(<елемент>)`.\n",
        "Виведіть `n_repeats` на екран.\n",
        "\n",
        "**Підказки**:\n",
        "1. Для початку може бути зручно отримати набір унікальних елементів списку.\n",
        "2. Порядок ключів в словнику не має значення! Тобто ключі в словнику не обовʼязково мають бути в тому ж порядку, як наведено в прикладі результату. Але кількості зустрічань для кожного елемента мають співпадати з наведеними."
      ]
    },
    {
      "cell_type": "code",
      "execution_count": 3,
      "metadata": {
        "id": "T_MDOYpa8Khu"
      },
      "outputs": [],
      "source": [
        "long = [75, 39, 95, 1, 91, 43, 97, 24, 86, 75, 92, 91, 15, 15, 75, 95, 54, 29, 55, 98]"
      ]
    },
    {
      "cell_type": "code",
      "execution_count": 4,
      "metadata": {
        "id": "FCUf8p3y8RG0"
      },
      "outputs": [],
      "source": [
        "from collections import Counter"
      ]
    },
    {
      "cell_type": "code",
      "execution_count": 5,
      "metadata": {
        "colab": {
          "base_uri": "https://localhost:8080/"
        },
        "id": "3KKWLFm3sQhy",
        "outputId": "d7471376-3c76-4d93-988e-d107d5dc945c"
      },
      "outputs": [
        {
          "output_type": "stream",
          "name": "stdout",
          "text": [
            "{75: 3, 39: 1, 95: 2, 1: 1, 91: 2, 43: 1, 97: 1, 24: 1, 86: 1, 92: 1, 15: 2, 54: 1, 29: 1, 55: 1, 98: 1}\n"
          ]
        }
      ],
      "source": [
        "n_repeats = dict(Counter(long))\n",
        "print(n_repeats)"
      ]
    },
    {
      "cell_type": "raw",
      "metadata": {
        "id": "gMyEtRpSsQhy"
      },
      "source": []
    },
    {
      "cell_type": "code",
      "execution_count": 6,
      "metadata": {
        "id": "ZE3EM0rJsQhy"
      },
      "outputs": [],
      "source": [
        "n_repeats = {}"
      ]
    },
    {
      "cell_type": "code",
      "execution_count": 7,
      "metadata": {
        "colab": {
          "base_uri": "https://localhost:8080/"
        },
        "id": "I7R1HL4nsQhy",
        "outputId": "db68d4d2-d2d0-4d05-9752-c01840e878ca"
      },
      "outputs": [
        {
          "output_type": "stream",
          "name": "stdout",
          "text": [
            "{75: 3, 39: 1, 95: 2, 1: 1, 91: 2, 43: 1, 97: 1, 24: 1, 86: 1, 92: 1, 15: 2, 54: 1, 29: 1, 55: 1, 98: 1}\n"
          ]
        }
      ],
      "source": [
        "for element in long:\n",
        "    if element in n_repeats:\n",
        "        n_repeats[element] += 1\n",
        "    else:\n",
        "        n_repeats[element] = 1\n",
        "print(n_repeats)"
      ]
    },
    {
      "cell_type": "code",
      "execution_count": 8,
      "metadata": {
        "colab": {
          "base_uri": "https://localhost:8080/"
        },
        "id": "KYt_ul2NsQhy",
        "outputId": "8751cbc9-c38a-4d95-f4a0-a4af9e6d457f"
      },
      "outputs": [
        {
          "output_type": "stream",
          "name": "stdout",
          "text": [
            "{75: 3, 39: 1, 95: 2, 1: 1, 91: 2, 43: 1, 97: 1, 24: 1, 86: 1, 92: 1, 15: 2, 54: 1, 29: 1, 55: 1, 98: 1}\n"
          ]
        }
      ],
      "source": [
        "n_repeats.clear()\n",
        "for element in long:\n",
        "    if element in n_repeats:\n",
        "        n_repeats[element] += 1\n",
        "    else:\n",
        "        n_repeats[element] = 1\n",
        "print(n_repeats)"
      ]
    },
    {
      "cell_type": "markdown",
      "metadata": {
        "id": "WQbGyWde8RkT"
      },
      "source": [
        "Очікуваний результат:\n",
        "```\n",
        "{1: 1, 97: 1, 98: 1, 39: 1, 75: 3, 43: 1, 15: 2, 55: 1, 86: 1, 54: 1, 24: 1, 91: 2, 92: 1, 29: 1, 95: 2}\n",
        "\n",
        "```"
      ]
    },
    {
      "cell_type": "markdown",
      "metadata": {
        "id": "W-nelSSP8VeG"
      },
      "source": [
        "6. Виконайте ту саму операцію, що і в попередньому заваднні, але використовуючи `dict comprehension`. Результат запишіть у змінну `n_repeats_dh` та результат виведіть на екран."
      ]
    },
    {
      "cell_type": "code",
      "execution_count": 9,
      "metadata": {
        "id": "gDz_kE0N8YM4",
        "colab": {
          "base_uri": "https://localhost:8080/"
        },
        "outputId": "fca00827-b2e1-4488-b214-355c77bc727b"
      },
      "outputs": [
        {
          "output_type": "stream",
          "name": "stdout",
          "text": [
            "{1: 1, 97: 1, 98: 1, 39: 1, 75: 3, 43: 1, 15: 2, 55: 1, 86: 1, 54: 1, 24: 1, 91: 2, 92: 1, 29: 1, 95: 2}\n"
          ]
        }
      ],
      "source": [
        "n_repeats_dh = {element: long.count(element) for element in set(long)}\n",
        "print(n_repeats_dh)"
      ]
    },
    {
      "cell_type": "markdown",
      "metadata": {
        "id": "Th5wKghw8aYj"
      },
      "source": [
        "7. Знайдіть три найменші **унікальні** елементи в списку `long` та виведіть їх на екран."
      ]
    },
    {
      "cell_type": "code",
      "execution_count": 10,
      "metadata": {
        "id": "NG9PvlnK8a2Q",
        "colab": {
          "base_uri": "https://localhost:8080/"
        },
        "outputId": "9a01dfe4-24b5-44ef-909b-fbf10cf60dfc"
      },
      "outputs": [
        {
          "output_type": "stream",
          "name": "stdout",
          "text": [
            "{1, 97, 98, 39, 75, 43, 15, 55, 86, 54, 24, 91, 92, 29, 95}\n"
          ]
        }
      ],
      "source": [
        "unique = set(long)\n",
        "print(unique)"
      ]
    },
    {
      "cell_type": "markdown",
      "metadata": {
        "id": "XOW0GDBK8cn7"
      },
      "source": [
        "Очікувана відповідь: [1, 15, 24]"
      ]
    },
    {
      "cell_type": "code",
      "execution_count": 11,
      "metadata": {
        "colab": {
          "base_uri": "https://localhost:8080/"
        },
        "id": "55qvpCPQsQhz",
        "outputId": "76fe2ae0-68d2-4f97-b2f3-5ed9bd6de51e"
      },
      "outputs": [
        {
          "output_type": "stream",
          "name": "stdout",
          "text": [
            "[1, 15, 24, 29, 39, 43, 54, 55, 75, 86, 91, 92, 95, 97, 98]\n"
          ]
        }
      ],
      "source": [
        "sorted_unique_list = sorted(unique)\n",
        "print(sorted_unique_list)"
      ]
    },
    {
      "cell_type": "code",
      "execution_count": 12,
      "metadata": {
        "colab": {
          "base_uri": "https://localhost:8080/"
        },
        "id": "jQnNj0YQsQhz",
        "outputId": "a9d328b5-1a5a-474e-84ca-f4936f1bb539"
      },
      "outputs": [
        {
          "output_type": "stream",
          "name": "stdout",
          "text": [
            "[1, 15, 24]\n"
          ]
        }
      ],
      "source": [
        "print(sorted_unique_list[:3])"
      ]
    },
    {
      "cell_type": "code",
      "execution_count": null,
      "metadata": {
        "id": "luWSK0dwsQhz"
      },
      "outputs": [],
      "source": []
    }
  ],
  "metadata": {
    "colab": {
      "provenance": []
    },
    "kernelspec": {
      "display_name": "Python 3 (ipykernel)",
      "language": "python",
      "name": "python3"
    },
    "language_info": {
      "codemirror_mode": {
        "name": "ipython",
        "version": 3
      },
      "file_extension": ".py",
      "mimetype": "text/x-python",
      "name": "python",
      "nbconvert_exporter": "python",
      "pygments_lexer": "ipython3",
      "version": "3.12.4"
    }
  },
  "nbformat": 4,
  "nbformat_minor": 0
}
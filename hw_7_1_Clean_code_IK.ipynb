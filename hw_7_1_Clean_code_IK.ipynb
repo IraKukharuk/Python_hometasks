{
  "cells": [
    {
      "cell_type": "markdown",
      "id": "aed503f1",
      "metadata": {
        "ExecuteTime": {
          "end_time": "2023-07-27T20:14:32.871852Z",
          "start_time": "2023-07-27T20:14:31.036121Z"
        },
        "id": "aed503f1"
      },
      "source": [
        "У завданнях 1-4. Вам наданий простий код на Python, який не відповідає вказівкам PEP8. Ваше завдання — відредагувати код так, аби він відповідав PEP8. Напишіть після редагуванню коду, дотримання яких правил з pep8 ви досягли в відредагованій версі, наприклад\n",
        "```\n",
        "- додала пробіли навколо бінарного оператора\n",
        "- додала два порожні рядки між визначеннями функцій\n",
        "і тд\n",
        "```\n",
        "Також можна зазанчити використані правила коментарями по коду, а не окремим повідомленням.\n",
        "\n",
        "Відредагований код має виконувати весь той самий функціонал, але бути написаний відповідно до вимог до гарного коду на Python! Не забудьте запустити відредагований код, він має бути робочим."
      ]
    },
    {
      "cell_type": "markdown",
      "id": "e7fea147",
      "metadata": {
        "id": "e7fea147"
      },
      "source": [
        "Завдання 1."
      ]
    },
    {
      "cell_type": "code",
      "execution_count": 6,
      "id": "f63d84d7",
      "metadata": {
        "ExecuteTime": {
          "end_time": "2023-07-29T17:02:37.075783Z",
          "start_time": "2023-07-29T17:02:37.035259Z"
        },
        "id": "f63d84d7",
        "colab": {
          "base_uri": "https://localhost:8080/",
          "height": 69
        },
        "outputId": "f3b77b3b-816e-4e0e-ffd4-8aca3c35d1d7"
      },
      "outputs": [
        {
          "output_type": "stream",
          "name": "stdout",
          "text": [
            "Hello, John\n"
          ]
        },
        {
          "output_type": "display_data",
          "data": {
            "text/plain": [
              "None"
            ]
          },
          "metadata": {}
        },
        {
          "output_type": "display_data",
          "data": {
            "text/plain": [
              "8"
            ]
          },
          "metadata": {}
        }
      ],
      "source": [
        "def greet(name):\n",
        "  print(f\"Hello, {name}\")\n",
        "\n",
        "def add(n1, n2):\n",
        "  return n1 + n2\n",
        "\n",
        "x = 5; y = 3\n",
        "display(greet(\"John\"), add(x, y))\n"
      ]
    },
    {
      "cell_type": "markdown",
      "source": [
        "Перенесла функції print, return в нові рядки, з пропуском 4 пробіли.\n",
        "Додала пробіли між n1,n2 та n1+n2.\n",
        "Після x = 5; додала пробіл.\n",
        "Також додала пробіли в останньому рядку, після коми, та після передачі значення x.\n",
        "ДОдала пустий рядок між функціями.\n"
      ],
      "metadata": {
        "id": "Zr5AqMRTbG5_"
      },
      "id": "Zr5AqMRTbG5_"
    },
    {
      "cell_type": "markdown",
      "id": "cea88baf",
      "metadata": {
        "id": "cea88baf"
      },
      "source": [
        "Завдання 2."
      ]
    },
    {
      "cell_type": "code",
      "execution_count": 8,
      "id": "dfb6d2b5",
      "metadata": {
        "ExecuteTime": {
          "end_time": "2023-07-29T17:05:49.706098Z",
          "start_time": "2023-07-29T17:05:49.688255Z"
        },
        "id": "dfb6d2b5",
        "colab": {
          "base_uri": "https://localhost:8080/"
        },
        "outputId": "902d4488-e120-4a3a-9e6b-08508992ad4e"
      },
      "outputs": [
        {
          "output_type": "stream",
          "name": "stdout",
          "text": [
            "Area: 78.53981633974483 Circumference: 31.41592653589793\n"
          ]
        }
      ],
      "source": [
        "from math import pi\n",
        "def calc_area(r):   # замінили назви змінних на _\n",
        "  return pi * r ** 2\n",
        "                                 # розділили функції пустим рядком\n",
        "def calc_circumference(r):\n",
        "  return 2 * pi * r              # додали пробіли між знаками *\n",
        "\n",
        "radius = 5  #додали пробіли навколо =\n",
        "print(\"Area:\", calc_area(radius), \"Circumference:\", calc_circumference(radius))  # додали пробіли після ком"
      ]
    },
    {
      "cell_type": "markdown",
      "id": "1fd691b7",
      "metadata": {
        "id": "1fd691b7"
      },
      "source": [
        "Завдання 3."
      ]
    },
    {
      "cell_type": "code",
      "execution_count": 9,
      "id": "1d5acb2d",
      "metadata": {
        "ExecuteTime": {
          "end_time": "2023-07-29T17:06:18.612622Z",
          "start_time": "2023-07-29T17:06:18.598477Z"
        },
        "id": "1d5acb2d"
      },
      "outputs": [],
      "source": [
        "class Animal: # CamelCase для імен класів\n",
        "  pass    # перенесли пасс в новий рядок, згідно здвигу в 4 пробіли\n",
        "          # додали пустий рядок між класами\n",
        "class Dog(Animal):  #CamelCase для імен класів\n",
        "    def __init__(self, name):   # додали пробіли після ком\n",
        "        self.name = name        # додали пробіли після =\n",
        "        self.type = 'Dog'       # додали пробіли після ="
      ]
    },
    {
      "cell_type": "code",
      "execution_count": null,
      "id": "0d4b2b8a",
      "metadata": {
        "id": "0d4b2b8a"
      },
      "outputs": [],
      "source": []
    },
    {
      "cell_type": "markdown",
      "id": "7d1d4f5d",
      "metadata": {
        "id": "7d1d4f5d"
      },
      "source": [
        "Завдання 4."
      ]
    },
    {
      "cell_type": "code",
      "execution_count": 11,
      "id": "a91c1cc4",
      "metadata": {
        "ExecuteTime": {
          "end_time": "2023-07-29T17:06:47.180263Z",
          "start_time": "2023-07-29T17:06:47.173617Z"
        },
        "id": "a91c1cc4",
        "colab": {
          "base_uri": "https://localhost:8080/"
        },
        "outputId": "c6bcfd5e-c5c1-47ba-8ad7-11dde6ad6342"
      },
      "outputs": [
        {
          "output_type": "stream",
          "name": "stdout",
          "text": [
            "1\n",
            "2\n",
            "3\n",
            "4\n",
            "5\n"
          ]
        }
      ],
      "source": [
        "my_list = [1, 2, 3, 4, 5]    # додаєм пробіли навколо =, а також після знаків , задаєм назву змінної через _\n",
        "for i in range(len(my_list)):\n",
        "  print(my_list[i])              # переносим функцію прінт нижче циклу, використовуючи 4 пробіли"
      ]
    },
    {
      "cell_type": "markdown",
      "id": "8b0487e6",
      "metadata": {
        "id": "8b0487e6"
      },
      "source": [
        "5.У вас є DataFrame df, що представляє результати тестів студентів з математики, англійської мови та історії. Поточний код обчислює середній бал для кожного студента шляхом ітерації за рядками DataFrame за допомогою iterrows().\n",
        "\n",
        "Ваше завдання полягає в тому, щоб змінити код так, аби уникнути використання iterrows() і замість цього застосувати більш ефективне та читабельне рішення відповідно до правил, озвучених у лекції. Рефакторинг треба зробити лише частині, де рахуються середні, імпорт і визначення датафрейму лишаємо без змін."
      ]
    },
    {
      "cell_type": "code",
      "execution_count": 12,
      "id": "5b3cc648",
      "metadata": {
        "ExecuteTime": {
          "end_time": "2023-07-29T17:15:55.926882Z",
          "start_time": "2023-07-29T17:15:55.686415Z"
        },
        "id": "5b3cc648"
      },
      "outputs": [],
      "source": [
        "import pandas as pd\n",
        "\n",
        "df = pd.DataFrame({\n",
        "    'student': ['Alice', 'Bob', 'Charlie', 'David'],\n",
        "    'math_score': [89, 94, 77, 85],\n",
        "    'english_score': [92, 88, 79, 85],\n",
        "    'history_score': [84, 92, 81, 89]\n",
        "})"
      ]
    },
    {
      "cell_type": "code",
      "execution_count": 13,
      "id": "f5858889",
      "metadata": {
        "ExecuteTime": {
          "end_time": "2023-07-29T17:15:55.926882Z",
          "start_time": "2023-07-29T17:15:55.686415Z"
        },
        "id": "f5858889"
      },
      "outputs": [],
      "source": [
        "df['average_score'] = df[['math_score', 'english_score', 'history_score']].mean(axis=1)"
      ]
    },
    {
      "cell_type": "markdown",
      "id": "34fb1db9",
      "metadata": {
        "id": "34fb1db9"
      },
      "source": [
        "6.У Вас є великий DataFrame df, що представляє транзакції продажу в магазині. Цей DataFrame містить понад 1 мільйон рядків і кілька стовпців, зокрема «product_name», «product_category», «product_price» і «transaction_date».\n",
        "\n",
        "І «product_name», і «product_category» є рядками, що представляють численні, але обмежені унікальні назви продуктів і категорії відповідно.\n",
        "\n",
        "Напишіть код для ефективного перетворення стовпців «product_name» і «product_category» на категорійний тип для ефективного використання пам’яті.\n",
        "Спробуйте вирішити це завдання, мінімізуючи використання пам'яті та зберігаючи читабельність коду. Крім того, виміряйте використання пам’яті до та після перетворення, щоб продемонструвати підвищення ефективності.\n",
        "\n",
        "Порівняйте кількість памʼяті, яку займає наданий набір даних і новий, створений Вами. В лекції був приклад. В скільки разів менше памʼяті займає новий датафрейм?"
      ]
    },
    {
      "cell_type": "code",
      "execution_count": 20,
      "id": "d4926909",
      "metadata": {
        "ExecuteTime": {
          "end_time": "2023-07-29T21:19:30.009527Z",
          "start_time": "2023-07-29T21:19:29.595210Z"
        },
        "id": "d4926909",
        "colab": {
          "base_uri": "https://localhost:8080/"
        },
        "outputId": "1372dacb-40db-4771-b5e0-046129303a3f"
      },
      "outputs": [
        {
          "output_type": "stream",
          "name": "stdout",
          "text": [
            "320 ms ± 3.33 ms per loop (mean ± std. dev. of 7 runs, 1 loop each)\n"
          ]
        }
      ],
      "source": [
        "%%timeit\n",
        "import pandas as pd\n",
        "import numpy as np\n",
        "\n",
        "np.random.seed(0)\n",
        "\n",
        "products = ['apple', 'banana', 'cherry', 'dates', 'elderberry']\n",
        "categories = ['fruit', 'fruit', 'fruit', 'fruit', 'fruit']\n",
        "\n",
        "N_ROWS = 10**6\n",
        "df = pd.DataFrame({\n",
        "    'product_name': np.random.choice(products, N_ROWS),\n",
        "    'product_category': np.random.choice(categories, N_ROWS),\n",
        "    'product_price': np.random.uniform(1, 10, N_ROWS),\n",
        "    'transaction_date': pd.date_range(start='1/1/2000', periods=N_ROWS, freq='h')\n",
        "})\n"
      ]
    },
    {
      "cell_type": "code",
      "source": [
        "%%timeit\n",
        "import pandas as pd\n",
        "import numpy as np\n",
        "\n",
        "np.random.seed(0)\n",
        "\n",
        "products = ['apple', 'banana', 'cherry', 'dates', 'elderberry']\n",
        "categories = ['fruit', 'fruit', 'fruit', 'fruit', 'fruit']\n",
        "\n",
        "N_ROWS = 10**6\n",
        "df = pd.DataFrame({\n",
        "    'product_name': np.random.choice(products, N_ROWS),\n",
        "    'product_category': np.random.choice(categories, N_ROWS),\n",
        "    'product_price': np.random.uniform(1, 10, N_ROWS),\n",
        "    'transaction_date': pd.date_range(start='1/1/2000', periods=N_ROWS, freq='h')\n",
        "})\n",
        "\n",
        "df['product_name'] = pd.Categorical(df['product_name'])\n",
        "df['product_category'] = pd.Categorical(df['product_category'])"
      ],
      "metadata": {
        "colab": {
          "base_uri": "https://localhost:8080/"
        },
        "id": "EAhN93AtiK6B",
        "outputId": "0d10d857-ad96-4b73-e7f5-22d83a7eb518"
      },
      "id": "EAhN93AtiK6B",
      "execution_count": 23,
      "outputs": [
        {
          "output_type": "stream",
          "name": "stdout",
          "text": [
            "470 ms ± 5.93 ms per loop (mean ± std. dev. of 7 runs, 1 loop each)\n"
          ]
        }
      ]
    },
    {
      "cell_type": "markdown",
      "source": [
        "Після перетворення на категоріальний тип даних, ефективність не покращилась"
      ],
      "metadata": {
        "id": "pTjdkkHikeTC"
      },
      "id": "pTjdkkHikeTC"
    },
    {
      "cell_type": "markdown",
      "id": "131cc08d",
      "metadata": {
        "id": "131cc08d"
      },
      "source": [
        "7.В цьому завданні кілька пунктів. Треба виконати усі послідовно.   \n",
        "    7.1. Завантажте дані у pandas dataframe з файла `ecommerce_data.csv`. Обовʼязково при завантаженні вкажіть параметр `encoding = 'ISO-8859-1'`, без нього буде помилка.  \n",
        "    7.2. Заповніть пропущені значення в колонці CustomerID на -1 та перетворіть тип цієї колонки на str, адже зараз вона типу float, а це не правильний тип даних для ідентифікатора клієнта.  \n",
        "    7.3. З допомогою бібліотеки sweetviz побудуйте html звіт, який порівнює дані для країни \"Germany\" і країни \"France\". У Вас можуть виникнути багато попереджень (Warning), їх рекомендую вимкнути наступним шматком коду   \n",
        "    \n",
        "   \n",
        "    import warnings\n",
        "\n",
        "    with warnings.catch_warnings(record=True):\n",
        "        # your code\n",
        "    \n",
        "    \n",
        "   7.4.Напишіть 5 відмінностей для двох зазначених країн на основі побудованого звіту, без виконання додаткового аналізу іншими інструментами."
      ]
    },
    {
      "cell_type": "code",
      "execution_count": 28,
      "id": "17200e77",
      "metadata": {
        "id": "17200e77",
        "colab": {
          "base_uri": "https://localhost:8080/"
        },
        "outputId": "c12ee4e3-061c-4972-ab26-3b6478bd434d"
      },
      "outputs": [
        {
          "output_type": "stream",
          "name": "stdout",
          "text": [
            "Drive already mounted at /content/drive; to attempt to forcibly remount, call drive.mount(\"/content/drive\", force_remount=True).\n"
          ]
        }
      ],
      "source": [
        "from google.colab import drive\n",
        "drive.mount('/content/drive')"
      ]
    },
    {
      "cell_type": "code",
      "source": [
        "df = pd.read_csv('drive/MyDrive/Colab/ecommerce_data.csv', encoding = 'ISO-8859-1')"
      ],
      "metadata": {
        "id": "aa77eC2XlP1s"
      },
      "id": "aa77eC2XlP1s",
      "execution_count": 31,
      "outputs": []
    },
    {
      "cell_type": "code",
      "source": [
        "df['CustomerID'].fillna(-1, inplace=True)"
      ],
      "metadata": {
        "colab": {
          "base_uri": "https://localhost:8080/"
        },
        "id": "AuJJxBBAmcqT",
        "outputId": "8d6dbf79-fa29-416c-b8bd-29f45d3400bc"
      },
      "id": "AuJJxBBAmcqT",
      "execution_count": 32,
      "outputs": [
        {
          "output_type": "stream",
          "name": "stderr",
          "text": [
            "<ipython-input-32-a4dfc58688e7>:1: FutureWarning: A value is trying to be set on a copy of a DataFrame or Series through chained assignment using an inplace method.\n",
            "The behavior will change in pandas 3.0. This inplace method will never work because the intermediate object on which we are setting values always behaves as a copy.\n",
            "\n",
            "For example, when doing 'df[col].method(value, inplace=True)', try using 'df.method({col: value}, inplace=True)' or df[col] = df[col].method(value) instead, to perform the operation inplace on the original object.\n",
            "\n",
            "\n",
            "  df['CustomerID'].fillna(-1, inplace=True)\n"
          ]
        }
      ]
    },
    {
      "cell_type": "code",
      "source": [
        "df['CustomerID'] = df['CustomerID'].astype(int).astype(str)"
      ],
      "metadata": {
        "id": "qaU2VeAwmeIT"
      },
      "id": "qaU2VeAwmeIT",
      "execution_count": 33,
      "outputs": []
    },
    {
      "cell_type": "code",
      "source": [
        "pip install sweetviz"
      ],
      "metadata": {
        "colab": {
          "base_uri": "https://localhost:8080/"
        },
        "id": "0ViUxrFhmtZL",
        "outputId": "22f56346-b28b-4935-eb83-860803b71d5c"
      },
      "id": "0ViUxrFhmtZL",
      "execution_count": 46,
      "outputs": [
        {
          "output_type": "stream",
          "name": "stdout",
          "text": [
            "Requirement already satisfied: sweetviz in /usr/local/lib/python3.11/dist-packages (2.3.1)\n",
            "Requirement already satisfied: pandas!=1.0.0,!=1.0.1,!=1.0.2,>=0.25.3 in /usr/local/lib/python3.11/dist-packages (from sweetviz) (2.2.2)\n",
            "Requirement already satisfied: numpy>=1.16.0 in /usr/local/lib/python3.11/dist-packages (from sweetviz) (1.26.4)\n",
            "Requirement already satisfied: matplotlib>=3.1.3 in /usr/local/lib/python3.11/dist-packages (from sweetviz) (3.10.0)\n",
            "Requirement already satisfied: tqdm>=4.43.0 in /usr/local/lib/python3.11/dist-packages (from sweetviz) (4.67.1)\n",
            "Requirement already satisfied: scipy>=1.3.2 in /usr/local/lib/python3.11/dist-packages (from sweetviz) (1.13.1)\n",
            "Requirement already satisfied: jinja2>=2.11.1 in /usr/local/lib/python3.11/dist-packages (from sweetviz) (3.1.5)\n",
            "Requirement already satisfied: importlib-resources>=1.2.0 in /usr/local/lib/python3.11/dist-packages (from sweetviz) (6.5.2)\n",
            "Requirement already satisfied: MarkupSafe>=2.0 in /usr/local/lib/python3.11/dist-packages (from jinja2>=2.11.1->sweetviz) (3.0.2)\n",
            "Requirement already satisfied: contourpy>=1.0.1 in /usr/local/lib/python3.11/dist-packages (from matplotlib>=3.1.3->sweetviz) (1.3.1)\n",
            "Requirement already satisfied: cycler>=0.10 in /usr/local/lib/python3.11/dist-packages (from matplotlib>=3.1.3->sweetviz) (0.12.1)\n",
            "Requirement already satisfied: fonttools>=4.22.0 in /usr/local/lib/python3.11/dist-packages (from matplotlib>=3.1.3->sweetviz) (4.55.8)\n",
            "Requirement already satisfied: kiwisolver>=1.3.1 in /usr/local/lib/python3.11/dist-packages (from matplotlib>=3.1.3->sweetviz) (1.4.8)\n",
            "Requirement already satisfied: packaging>=20.0 in /usr/local/lib/python3.11/dist-packages (from matplotlib>=3.1.3->sweetviz) (24.2)\n",
            "Requirement already satisfied: pillow>=8 in /usr/local/lib/python3.11/dist-packages (from matplotlib>=3.1.3->sweetviz) (11.1.0)\n",
            "Requirement already satisfied: pyparsing>=2.3.1 in /usr/local/lib/python3.11/dist-packages (from matplotlib>=3.1.3->sweetviz) (3.2.1)\n",
            "Requirement already satisfied: python-dateutil>=2.7 in /usr/local/lib/python3.11/dist-packages (from matplotlib>=3.1.3->sweetviz) (2.8.2)\n",
            "Requirement already satisfied: pytz>=2020.1 in /usr/local/lib/python3.11/dist-packages (from pandas!=1.0.0,!=1.0.1,!=1.0.2,>=0.25.3->sweetviz) (2025.1)\n",
            "Requirement already satisfied: tzdata>=2022.7 in /usr/local/lib/python3.11/dist-packages (from pandas!=1.0.0,!=1.0.1,!=1.0.2,>=0.25.3->sweetviz) (2025.1)\n",
            "Requirement already satisfied: six>=1.5 in /usr/local/lib/python3.11/dist-packages (from python-dateutil>=2.7->matplotlib>=3.1.3->sweetviz) (1.17.0)\n"
          ]
        }
      ]
    },
    {
      "cell_type": "code",
      "source": [
        "import sweetviz as sv\n",
        "import warnings"
      ],
      "metadata": {
        "id": "mhFJqFr9m0MT"
      },
      "id": "mhFJqFr9m0MT",
      "execution_count": 37,
      "outputs": []
    },
    {
      "cell_type": "code",
      "source": [
        "warnings.filterwarnings(\"ignore\")\n",
        "df_germany = df[df['Country'] == 'Germany']\n",
        "df_france = df[df['Country'] == 'France']\n",
        "report = sv.compare([df_germany, 'Germany'], [df_france, 'France'])\n",
        "report.show_html('comparison_report.html')"
      ],
      "metadata": {
        "colab": {
          "base_uri": "https://localhost:8080/",
          "height": 66,
          "referenced_widgets": [
            "02c2d1c1b4cb439e9c41a0a669ec1b04",
            "ac34d9d371fb4e1a81caf93a87a4e7af",
            "6da5eefc66964973a624b64ef76e0da5",
            "62617ed894894176993bab88c8760e23",
            "62f3e3e475b84a2ca5a646af5d0049b7",
            "1ba1b655b2e1452d9a75d222fc698720",
            "a4a14a42b21249c190e3c40cd2ef819e",
            "a3a0fb0f2366432b83e64d4ca26fc785",
            "ecef7ef6d0cf42e9866f27329d531f8c",
            "6a4450c9b51743aba0f90982431cf595",
            "bcabb4e7836a49edb29959177a450a1e"
          ]
        },
        "id": "iATnHTX2m3Dj",
        "outputId": "7ea3cce3-65c8-4015-a3c5-84a4eebb53c9"
      },
      "id": "iATnHTX2m3Dj",
      "execution_count": 42,
      "outputs": [
        {
          "output_type": "display_data",
          "data": {
            "text/plain": [
              "                                             |          | [  0%]   00:00 -> (? left)"
            ],
            "application/vnd.jupyter.widget-view+json": {
              "version_major": 2,
              "version_minor": 0,
              "model_id": "02c2d1c1b4cb439e9c41a0a669ec1b04"
            }
          },
          "metadata": {}
        },
        {
          "output_type": "stream",
          "name": "stdout",
          "text": [
            "Report comparison_report.html was generated! NOTEBOOK/COLAB USERS: the web browser MAY not pop up, regardless, the report IS saved in your notebook/colab files.\n"
          ]
        }
      ]
    },
    {
      "cell_type": "code",
      "source": [
        "report.show_html('comparison_report.html')\n",
        "from google.colab import files\n",
        "files.download('comparison_report.html')"
      ],
      "metadata": {
        "colab": {
          "base_uri": "https://localhost:8080/",
          "height": 34
        },
        "id": "L0KilgVVoCnm",
        "outputId": "5ab1c917-0ce5-43de-a466-6acaa24a1c8c"
      },
      "id": "L0KilgVVoCnm",
      "execution_count": 45,
      "outputs": [
        {
          "output_type": "stream",
          "name": "stdout",
          "text": [
            "Report comparison_report.html was generated! NOTEBOOK/COLAB USERS: the web browser MAY not pop up, regardless, the report IS saved in your notebook/colab files.\n"
          ]
        },
        {
          "output_type": "display_data",
          "data": {
            "text/plain": [
              "<IPython.core.display.Javascript object>"
            ],
            "application/javascript": [
              "\n",
              "    async function download(id, filename, size) {\n",
              "      if (!google.colab.kernel.accessAllowed) {\n",
              "        return;\n",
              "      }\n",
              "      const div = document.createElement('div');\n",
              "      const label = document.createElement('label');\n",
              "      label.textContent = `Downloading \"${filename}\": `;\n",
              "      div.appendChild(label);\n",
              "      const progress = document.createElement('progress');\n",
              "      progress.max = size;\n",
              "      div.appendChild(progress);\n",
              "      document.body.appendChild(div);\n",
              "\n",
              "      const buffers = [];\n",
              "      let downloaded = 0;\n",
              "\n",
              "      const channel = await google.colab.kernel.comms.open(id);\n",
              "      // Send a message to notify the kernel that we're ready.\n",
              "      channel.send({})\n",
              "\n",
              "      for await (const message of channel.messages) {\n",
              "        // Send a message to notify the kernel that we're ready.\n",
              "        channel.send({})\n",
              "        if (message.buffers) {\n",
              "          for (const buffer of message.buffers) {\n",
              "            buffers.push(buffer);\n",
              "            downloaded += buffer.byteLength;\n",
              "            progress.value = downloaded;\n",
              "          }\n",
              "        }\n",
              "      }\n",
              "      const blob = new Blob(buffers, {type: 'application/binary'});\n",
              "      const a = document.createElement('a');\n",
              "      a.href = window.URL.createObjectURL(blob);\n",
              "      a.download = filename;\n",
              "      div.appendChild(a);\n",
              "      a.click();\n",
              "      div.remove();\n",
              "    }\n",
              "  "
            ]
          },
          "metadata": {}
        },
        {
          "output_type": "display_data",
          "data": {
            "text/plain": [
              "<IPython.core.display.Javascript object>"
            ],
            "application/javascript": [
              "download(\"download_b70a83c1-cc2d-4a06-8025-085caca76bc3\", \"comparison_report.html\", 906645)"
            ]
          },
          "metadata": {}
        }
      ]
    },
    {
      "cell_type": "markdown",
      "source": [
        "Німеччина має  більше рядків ніж Франція.\n",
        "Пропущенних значень Інвойсів для Німеччини більше на 1% ніж для Франції.\n",
        "В залежності від того, що кількість рядків для Німеччини більше, то всі інші показники в відсотках, майже ідентичні по всім параметрам для обох країн. Коливання в межах 1%.\n"
      ],
      "metadata": {
        "id": "t3sjiLOJq3d5"
      },
      "id": "t3sjiLOJq3d5"
    },
    {
      "cell_type": "markdown",
      "id": "07ae375a",
      "metadata": {
        "ExecuteTime": {
          "end_time": "2023-07-30T18:55:42.650457Z",
          "start_time": "2023-07-30T18:55:42.635729Z"
        },
        "id": "07ae375a"
      },
      "source": [
        "8.З допомогою ChatGPT виявіть, чи є та які помилки в наступному коді.  \n",
        "Попросіть після цього переписати код із дотриманням PEP8. Проаналізуйте результат. Чи справді ChatGPT виправив всі стилістичні помилки? Якщо ні, напишіть йому ще кілька запитів, аби код відповідав вимогам PEP8.  \n",
        "Вставте фінальну версію коду з чату у ноутбук та запустіть на заданому списку. Має вертатись 50.  \n",
        "Напишіть, які промпти (інструкції) при зверненні до ChatGPT ви застосували та додайте скріншот(-и) з промптами та відповідями чата.  \n",
        "Якщо зробили висновки при виконанні цього завдання, то діліться також :)\n",
        "\n",
        "**ЯК ВСТАВИТИ СКРІНШОТ в Jupyter Notebook** :\n",
        "1. Створіть нову Markdown клітинку\n",
        "2. В новоствореній клітинці обираєте в меню Jupyter Notebook Edit -> Insert Image\n",
        "3. Обираєте картинку\n",
        "4. В клітинці має зʼявитись текст, який містить картинку. Запустіть клітинку.\n",
        "\n",
        "Або можна просто перетягнути картинку в Markdown клітинку."
      ]
    },
    {
      "cell_type": "code",
      "source": [],
      "metadata": {
        "id": "uebJWStNoBXh"
      },
      "id": "uebJWStNoBXh",
      "execution_count": null,
      "outputs": []
    },
    {
      "cell_type": "code",
      "execution_count": null,
      "id": "a5c010c4",
      "metadata": {
        "ExecuteTime": {
          "end_time": "2023-07-30T19:16:20.977219Z",
          "start_time": "2023-07-30T19:16:20.973688Z"
        },
        "id": "a5c010c4"
      },
      "outputs": [],
      "source": [
        "def CalculateVariance(nl):\n",
        "    sum_list = 0\n",
        "    for n in nl:\n",
        "        sum_list = sum_list + n\n",
        "    mean = sum_list / len(nl)\n",
        "    sum_squares = 0\n",
        "    for n in nl:\n",
        "        sum_squares = sum_squares + n**2\n",
        "    mean_squares = sum_squares / len(nl)\n",
        "    return mean_squares"
      ]
    },
    {
      "cell_type": "code",
      "execution_count": null,
      "id": "24bb3f81",
      "metadata": {
        "ExecuteTime": {
          "end_time": "2023-07-30T19:16:09.201841Z",
          "start_time": "2023-07-30T19:16:09.199174Z"
        },
        "id": "24bb3f81"
      },
      "outputs": [],
      "source": [
        "input_list = [75, 80, 85, 90, 95]"
      ]
    },
    {
      "cell_type": "code",
      "source": [
        "def calculate_variance(numbers):\n",
        "    \"\"\"Calculate the variance of a list of numbers.\"\"\"\n",
        "    mean_value = sum(numbers) / len(numbers)\n",
        "    mean_of_squares = sum(n**2 for n in numbers) / len(numbers)\n",
        "    variance = mean_of_squares - mean_value**2\n",
        "    return variance\n",
        "\n",
        "\n",
        "# Example input\n",
        "input_list = [75, 80, 85, 90, 95]\n",
        "\n",
        "# Calculate and print variance\n",
        "print(\"Variance:\", calculate_variance(input_list))"
      ],
      "metadata": {
        "colab": {
          "base_uri": "https://localhost:8080/"
        },
        "id": "-4aAG8qtwuJd",
        "outputId": "6c60bb1c-a3e9-4c7b-f54d-9516f85017c4"
      },
      "id": "-4aAG8qtwuJd",
      "execution_count": 48,
      "outputs": [
        {
          "output_type": "stream",
          "name": "stdout",
          "text": [
            "Variance: 50.0\n"
          ]
        }
      ]
    },
    {
      "cell_type": "markdown",
      "source": [
        "![Screenshot_43.png](data:image/png;base64,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)"
      ],
      "metadata": {
        "id": "W1YbEmwKxL0n"
      },
      "id": "W1YbEmwKxL0n"
    },
    {
      "cell_type": "markdown",
      "source": [
        "![Screenshot_44.png](data:image/png;base64,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)"
      ],
      "metadata": {
        "id": "fjuu-rJdxRMK"
      },
      "id": "fjuu-rJdxRMK"
    }
  ],
  "metadata": {
    "kernelspec": {
      "display_name": "Python 3 (ipykernel)",
      "language": "python",
      "name": "python3"
    },
    "language_info": {
      "codemirror_mode": {
        "name": "ipython",
        "version": 3
      },
      "file_extension": ".py",
      "mimetype": "text/x-python",
      "name": "python",
      "nbconvert_exporter": "python",
      "pygments_lexer": "ipython3",
      "version": "3.10.4"
    },
    "toc": {
      "base_numbering": 1,
      "nav_menu": {},
      "number_sections": true,
      "sideBar": true,
      "skip_h1_title": false,
      "title_cell": "Table of Contents",
      "title_sidebar": "Contents",
      "toc_cell": false,
      "toc_position": {},
      "toc_section_display": true,
      "toc_window_display": false
    },
    "colab": {
      "provenance": []
    },
    "widgets": {
      "application/vnd.jupyter.widget-state+json": {
        "02c2d1c1b4cb439e9c41a0a669ec1b04": {
          "model_module": "@jupyter-widgets/controls",
          "model_name": "HBoxModel",
          "model_module_version": "1.5.0",
          "state": {
            "_dom_classes": [],
            "_model_module": "@jupyter-widgets/controls",
            "_model_module_version": "1.5.0",
            "_model_name": "HBoxModel",
            "_view_count": null,
            "_view_module": "@jupyter-widgets/controls",
            "_view_module_version": "1.5.0",
            "_view_name": "HBoxView",
            "box_style": "",
            "children": [
              "IPY_MODEL_ac34d9d371fb4e1a81caf93a87a4e7af",
              "IPY_MODEL_6da5eefc66964973a624b64ef76e0da5",
              "IPY_MODEL_62617ed894894176993bab88c8760e23"
            ],
            "layout": "IPY_MODEL_62f3e3e475b84a2ca5a646af5d0049b7"
          }
        },
        "ac34d9d371fb4e1a81caf93a87a4e7af": {
          "model_module": "@jupyter-widgets/controls",
          "model_name": "HTMLModel",
          "model_module_version": "1.5.0",
          "state": {
            "_dom_classes": [],
            "_model_module": "@jupyter-widgets/controls",
            "_model_module_version": "1.5.0",
            "_model_name": "HTMLModel",
            "_view_count": null,
            "_view_module": "@jupyter-widgets/controls",
            "_view_module_version": "1.5.0",
            "_view_name": "HTMLView",
            "description": "",
            "description_tooltip": null,
            "layout": "IPY_MODEL_1ba1b655b2e1452d9a75d222fc698720",
            "placeholder": "​",
            "style": "IPY_MODEL_a4a14a42b21249c190e3c40cd2ef819e",
            "value": "Done! Use &#x27;show&#x27; commands to display/save.   "
          }
        },
        "6da5eefc66964973a624b64ef76e0da5": {
          "model_module": "@jupyter-widgets/controls",
          "model_name": "FloatProgressModel",
          "model_module_version": "1.5.0",
          "state": {
            "_dom_classes": [],
            "_model_module": "@jupyter-widgets/controls",
            "_model_module_version": "1.5.0",
            "_model_name": "FloatProgressModel",
            "_view_count": null,
            "_view_module": "@jupyter-widgets/controls",
            "_view_module_version": "1.5.0",
            "_view_name": "ProgressView",
            "bar_style": "success",
            "description": "",
            "description_tooltip": null,
            "layout": "IPY_MODEL_a3a0fb0f2366432b83e64d4ca26fc785",
            "max": 1,
            "min": 0,
            "orientation": "horizontal",
            "style": "IPY_MODEL_ecef7ef6d0cf42e9866f27329d531f8c",
            "value": 1
          }
        },
        "62617ed894894176993bab88c8760e23": {
          "model_module": "@jupyter-widgets/controls",
          "model_name": "HTMLModel",
          "model_module_version": "1.5.0",
          "state": {
            "_dom_classes": [],
            "_model_module": "@jupyter-widgets/controls",
            "_model_module_version": "1.5.0",
            "_model_name": "HTMLModel",
            "_view_count": null,
            "_view_module": "@jupyter-widgets/controls",
            "_view_module_version": "1.5.0",
            "_view_name": "HTMLView",
            "description": "",
            "description_tooltip": null,
            "layout": "IPY_MODEL_6a4450c9b51743aba0f90982431cf595",
            "placeholder": "​",
            "style": "IPY_MODEL_bcabb4e7836a49edb29959177a450a1e",
            "value": " [100%]   00:01 -&gt; (00:00 left)"
          }
        },
        "62f3e3e475b84a2ca5a646af5d0049b7": {
          "model_module": "@jupyter-widgets/base",
          "model_name": "LayoutModel",
          "model_module_version": "1.2.0",
          "state": {
            "_model_module": "@jupyter-widgets/base",
            "_model_module_version": "1.2.0",
            "_model_name": "LayoutModel",
            "_view_count": null,
            "_view_module": "@jupyter-widgets/base",
            "_view_module_version": "1.2.0",
            "_view_name": "LayoutView",
            "align_content": null,
            "align_items": null,
            "align_self": null,
            "border": null,
            "bottom": null,
            "display": "inline-flex",
            "flex": null,
            "flex_flow": "row wrap",
            "grid_area": null,
            "grid_auto_columns": null,
            "grid_auto_flow": null,
            "grid_auto_rows": null,
            "grid_column": null,
            "grid_gap": null,
            "grid_row": null,
            "grid_template_areas": null,
            "grid_template_columns": null,
            "grid_template_rows": null,
            "height": null,
            "justify_content": null,
            "justify_items": null,
            "left": null,
            "margin": null,
            "max_height": null,
            "max_width": null,
            "min_height": null,
            "min_width": null,
            "object_fit": null,
            "object_position": null,
            "order": null,
            "overflow": null,
            "overflow_x": null,
            "overflow_y": null,
            "padding": null,
            "right": null,
            "top": null,
            "visibility": null,
            "width": "100%"
          }
        },
        "1ba1b655b2e1452d9a75d222fc698720": {
          "model_module": "@jupyter-widgets/base",
          "model_name": "LayoutModel",
          "model_module_version": "1.2.0",
          "state": {
            "_model_module": "@jupyter-widgets/base",
            "_model_module_version": "1.2.0",
            "_model_name": "LayoutModel",
            "_view_count": null,
            "_view_module": "@jupyter-widgets/base",
            "_view_module_version": "1.2.0",
            "_view_name": "LayoutView",
            "align_content": null,
            "align_items": null,
            "align_self": null,
            "border": null,
            "bottom": null,
            "display": null,
            "flex": null,
            "flex_flow": null,
            "grid_area": null,
            "grid_auto_columns": null,
            "grid_auto_flow": null,
            "grid_auto_rows": null,
            "grid_column": null,
            "grid_gap": null,
            "grid_row": null,
            "grid_template_areas": null,
            "grid_template_columns": null,
            "grid_template_rows": null,
            "height": null,
            "justify_content": null,
            "justify_items": null,
            "left": null,
            "margin": null,
            "max_height": null,
            "max_width": null,
            "min_height": null,
            "min_width": null,
            "object_fit": null,
            "object_position": null,
            "order": null,
            "overflow": null,
            "overflow_x": null,
            "overflow_y": null,
            "padding": null,
            "right": null,
            "top": null,
            "visibility": null,
            "width": null
          }
        },
        "a4a14a42b21249c190e3c40cd2ef819e": {
          "model_module": "@jupyter-widgets/controls",
          "model_name": "DescriptionStyleModel",
          "model_module_version": "1.5.0",
          "state": {
            "_model_module": "@jupyter-widgets/controls",
            "_model_module_version": "1.5.0",
            "_model_name": "DescriptionStyleModel",
            "_view_count": null,
            "_view_module": "@jupyter-widgets/base",
            "_view_module_version": "1.2.0",
            "_view_name": "StyleView",
            "description_width": ""
          }
        },
        "a3a0fb0f2366432b83e64d4ca26fc785": {
          "model_module": "@jupyter-widgets/base",
          "model_name": "LayoutModel",
          "model_module_version": "1.2.0",
          "state": {
            "_model_module": "@jupyter-widgets/base",
            "_model_module_version": "1.2.0",
            "_model_name": "LayoutModel",
            "_view_count": null,
            "_view_module": "@jupyter-widgets/base",
            "_view_module_version": "1.2.0",
            "_view_name": "LayoutView",
            "align_content": null,
            "align_items": null,
            "align_self": null,
            "border": null,
            "bottom": null,
            "display": null,
            "flex": "2",
            "flex_flow": null,
            "grid_area": null,
            "grid_auto_columns": null,
            "grid_auto_flow": null,
            "grid_auto_rows": null,
            "grid_column": null,
            "grid_gap": null,
            "grid_row": null,
            "grid_template_areas": null,
            "grid_template_columns": null,
            "grid_template_rows": null,
            "height": null,
            "justify_content": null,
            "justify_items": null,
            "left": null,
            "margin": null,
            "max_height": null,
            "max_width": null,
            "min_height": null,
            "min_width": null,
            "object_fit": null,
            "object_position": null,
            "order": null,
            "overflow": null,
            "overflow_x": null,
            "overflow_y": null,
            "padding": null,
            "right": null,
            "top": null,
            "visibility": null,
            "width": null
          }
        },
        "ecef7ef6d0cf42e9866f27329d531f8c": {
          "model_module": "@jupyter-widgets/controls",
          "model_name": "ProgressStyleModel",
          "model_module_version": "1.5.0",
          "state": {
            "_model_module": "@jupyter-widgets/controls",
            "_model_module_version": "1.5.0",
            "_model_name": "ProgressStyleModel",
            "_view_count": null,
            "_view_module": "@jupyter-widgets/base",
            "_view_module_version": "1.2.0",
            "_view_name": "StyleView",
            "bar_color": null,
            "description_width": ""
          }
        },
        "6a4450c9b51743aba0f90982431cf595": {
          "model_module": "@jupyter-widgets/base",
          "model_name": "LayoutModel",
          "model_module_version": "1.2.0",
          "state": {
            "_model_module": "@jupyter-widgets/base",
            "_model_module_version": "1.2.0",
            "_model_name": "LayoutModel",
            "_view_count": null,
            "_view_module": "@jupyter-widgets/base",
            "_view_module_version": "1.2.0",
            "_view_name": "LayoutView",
            "align_content": null,
            "align_items": null,
            "align_self": null,
            "border": null,
            "bottom": null,
            "display": null,
            "flex": null,
            "flex_flow": null,
            "grid_area": null,
            "grid_auto_columns": null,
            "grid_auto_flow": null,
            "grid_auto_rows": null,
            "grid_column": null,
            "grid_gap": null,
            "grid_row": null,
            "grid_template_areas": null,
            "grid_template_columns": null,
            "grid_template_rows": null,
            "height": null,
            "justify_content": null,
            "justify_items": null,
            "left": null,
            "margin": null,
            "max_height": null,
            "max_width": null,
            "min_height": null,
            "min_width": null,
            "object_fit": null,
            "object_position": null,
            "order": null,
            "overflow": null,
            "overflow_x": null,
            "overflow_y": null,
            "padding": null,
            "right": null,
            "top": null,
            "visibility": null,
            "width": null
          }
        },
        "bcabb4e7836a49edb29959177a450a1e": {
          "model_module": "@jupyter-widgets/controls",
          "model_name": "DescriptionStyleModel",
          "model_module_version": "1.5.0",
          "state": {
            "_model_module": "@jupyter-widgets/controls",
            "_model_module_version": "1.5.0",
            "_model_name": "DescriptionStyleModel",
            "_view_count": null,
            "_view_module": "@jupyter-widgets/base",
            "_view_module_version": "1.2.0",
            "_view_name": "StyleView",
            "description_width": ""
          }
        }
      }
    }
  },
  "nbformat": 4,
  "nbformat_minor": 5
}
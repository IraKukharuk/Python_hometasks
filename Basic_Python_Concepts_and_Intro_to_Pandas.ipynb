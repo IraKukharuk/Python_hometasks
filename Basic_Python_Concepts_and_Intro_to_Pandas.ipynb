{
  "cells": [
    {
      "cell_type": "markdown",
      "id": "c6a87d06",
      "metadata": {
        "id": "c6a87d06"
      },
      "source": [
        "# Основні поняття Python\n",
        "## Вступ до змінних і типів даних\n",
        "\n",
        "Змінні (англійською \"variables\") використовуються для зберігання значень у Python. Змінні можуть мати довільну назву, яка складається з літер, цифр і нижніх підкреслень.\n",
        "\n",
        "У прикладі коду ми створили три змінні: `x`, `y` і `z`. `x` зберігає значення `5`, `y` зберігає рядок `привіт`, а `z` зберігає логічне значення `True`. Python підтримує кілька типів даних, включаючи цілі числа, числа з плаваючою комою, рядки та логічні значення. Ми використали по одному з кожного у прикладі коду нижче."
      ]
    },
    {
      "cell_type": "code",
      "execution_count": null,
      "id": "54e5f02c",
      "metadata": {
        "ExecuteTime": {
          "end_time": "2023-05-06T08:10:23.749294Z",
          "start_time": "2023-05-06T08:10:23.742938Z"
        },
        "id": "54e5f02c"
      },
      "outputs": [],
      "source": [
        "x = 5\n",
        "y = \"привіт\"\n",
        "z = True"
      ]
    },
    {
      "cell_type": "markdown",
      "source": [
        "У кожної змінної є тип. Ось як його перевірити:"
      ],
      "metadata": {
        "id": "OldP98kcmG1Z"
      },
      "id": "OldP98kcmG1Z"
    },
    {
      "cell_type": "code",
      "source": [
        "type(x)"
      ],
      "metadata": {
        "id": "6mgAzMGimArn"
      },
      "id": "6mgAzMGimArn",
      "execution_count": null,
      "outputs": []
    },
    {
      "cell_type": "code",
      "source": [
        "type(y), type(z)"
      ],
      "metadata": {
        "id": "KNJZEckemMAW"
      },
      "id": "KNJZEckemMAW",
      "execution_count": null,
      "outputs": []
    },
    {
      "cell_type": "code",
      "source": [
        "display(type(y), type(z))"
      ],
      "metadata": {
        "id": "86h0-BjBmVWd"
      },
      "id": "86h0-BjBmVWd",
      "execution_count": null,
      "outputs": []
    },
    {
      "cell_type": "markdown",
      "id": "fc0635ca",
      "metadata": {
        "id": "fc0635ca"
      },
      "source": [
        "Змінну ми можемо використовувати далі у програмі, або взагалі перевизначити."
      ]
    },
    {
      "cell_type": "code",
      "execution_count": null,
      "id": "c0aa00e1",
      "metadata": {
        "ExecuteTime": {
          "end_time": "2023-05-06T08:10:24.540594Z",
          "start_time": "2023-05-06T08:10:24.523278Z"
        },
        "id": "c0aa00e1"
      },
      "outputs": [],
      "source": [
        "x"
      ]
    },
    {
      "cell_type": "code",
      "execution_count": null,
      "id": "c149000d",
      "metadata": {
        "ExecuteTime": {
          "end_time": "2023-05-06T08:10:28.998430Z",
          "start_time": "2023-05-06T08:10:28.992582Z"
        },
        "id": "c149000d"
      },
      "outputs": [],
      "source": [
        "x + 2"
      ]
    },
    {
      "cell_type": "code",
      "execution_count": null,
      "id": "9c52fac0",
      "metadata": {
        "ExecuteTime": {
          "end_time": "2023-05-06T08:10:40.096930Z",
          "start_time": "2023-05-06T08:10:40.093422Z"
        },
        "id": "9c52fac0"
      },
      "outputs": [],
      "source": [
        "x = 'Лондон'"
      ]
    },
    {
      "cell_type": "code",
      "execution_count": null,
      "id": "66285e93",
      "metadata": {
        "ExecuteTime": {
          "end_time": "2023-05-06T08:10:45.706712Z",
          "start_time": "2023-05-06T08:10:45.702169Z"
        },
        "id": "66285e93"
      },
      "outputs": [],
      "source": [
        "display(x, type(x))"
      ]
    },
    {
      "cell_type": "markdown",
      "source": [
        "В цьому ноутбуці для вас передбачені завдання. Давайте розглянемо, як з ними працювати."
      ],
      "metadata": {
        "id": "8_H5n3lLkymE"
      },
      "id": "8_H5n3lLkymE"
    },
    {
      "cell_type": "markdown",
      "id": "5602239d",
      "metadata": {
        "id": "5602239d"
      },
      "source": [
        "**Завдання 0**: Створіть змінну з назвою `my_first_variable` зі значенням `16`.\n",
        "<details>\n",
        "<summary>Натисніть тут аби побачити розвʼязок</summary>\n",
        "\n",
        "```python\n",
        "my_first_variable = 16\n",
        "\n",
        "```\n",
        "</details>\n"
      ]
    },
    {
      "cell_type": "markdown",
      "source": [
        "Тепер даю перші завдання вам для самостійного виконання."
      ],
      "metadata": {
        "id": "s2fuyBBgk9TL"
      },
      "id": "s2fuyBBgk9TL"
    },
    {
      "cell_type": "markdown",
      "source": [
        "**Завдання 1**: Створіть дві змінні: одну з назвою `value_1` і значенням 15.4, іншу з назвою `value_2` і значенням 199.\n",
        "\n",
        "<details>\n",
        "<summary>Натисніть тут аби побачити розвʼязок</summary>\n",
        "\n",
        "```python\n",
        "value_1 = 15.4\n",
        "value_2 = 199\n",
        "\n",
        "```\n",
        "</details>"
      ],
      "metadata": {
        "id": "QDvjbKDIlgWQ"
      },
      "id": "QDvjbKDIlgWQ"
    },
    {
      "cell_type": "markdown",
      "source": [
        "**Завдання 2**: Виведіть тип змінної `value_1`, `value_2`.\n",
        "\n",
        "<details>\n",
        "<summary>Натисніть тут аби побачити розвʼязок</summary>\n",
        "\n",
        "```python\n",
        "display(type(value_1), type(value_2))\n",
        "\n",
        "```\n",
        "</details>"
      ],
      "metadata": {
        "id": "siiYXSpvmnh4"
      },
      "id": "siiYXSpvmnh4"
    },
    {
      "cell_type": "markdown",
      "id": "655b33ff",
      "metadata": {
        "ExecuteTime": {
          "end_time": "2023-03-10T19:41:59.808189Z",
          "start_time": "2023-03-10T19:41:59.805342Z"
        },
        "id": "655b33ff"
      },
      "source": [
        "## Основні математичні операції в Python\n",
        "Python підтримує основні математичні операції, включаючи додавання, віднімання, множення, ділення та модуль числа. У прикладі коду наведено кілька таких операцій із використанням змінних `a` і `b`. `c` зберігає результат `a + b`, `d` зберігає результат `a - b`, `e` зберігає результат `a * b`, `f` зберігає результат `a / b`, а `g` зберігає залишок `a`, поділеного на `b`."
      ]
    },
    {
      "cell_type": "code",
      "execution_count": null,
      "id": "8c2062ef",
      "metadata": {
        "ExecuteTime": {
          "end_time": "2023-03-10T19:46:05.978919Z",
          "start_time": "2023-03-10T19:46:05.975660Z"
        },
        "id": "8c2062ef"
      },
      "outputs": [],
      "source": [
        "a = 10\n",
        "b = 3\n",
        "c = a + b\n",
        "d = a - b\n",
        "e = a * b\n",
        "f = a / b\n",
        "g = a % b"
      ]
    },
    {
      "cell_type": "code",
      "source": [
        "display(a, b, c, d, e, f, g)"
      ],
      "metadata": {
        "id": "PzHW_sN4nTGd"
      },
      "id": "PzHW_sN4nTGd",
      "execution_count": null,
      "outputs": []
    },
    {
      "cell_type": "markdown",
      "source": [
        "Рядочки теж можна складати. Це називаєтся - конкатенація."
      ],
      "metadata": {
        "id": "zl-kqE4wCDwu"
      },
      "id": "zl-kqE4wCDwu"
    },
    {
      "cell_type": "code",
      "source": [
        "s1 = 'aaa'\n",
        "s2 = 'bbb'\n",
        "s1 + s2"
      ],
      "metadata": {
        "id": "bOAyHtyRCDfH"
      },
      "id": "bOAyHtyRCDfH",
      "execution_count": null,
      "outputs": []
    },
    {
      "cell_type": "code",
      "source": [
        "s1 + ' ' + s2"
      ],
      "metadata": {
        "id": "fDlN2Z7gCNIu"
      },
      "id": "fDlN2Z7gCNIu",
      "execution_count": null,
      "outputs": []
    },
    {
      "cell_type": "markdown",
      "source": [
        "Ще можна вивести конкатенацію кількох рядків таким чином:"
      ],
      "metadata": {
        "id": "lcSO3zKnCdEB"
      },
      "id": "lcSO3zKnCdEB"
    },
    {
      "cell_type": "code",
      "source": [
        "print(s1, s2)"
      ],
      "metadata": {
        "id": "crMF_Un0CQpB"
      },
      "id": "crMF_Un0CQpB",
      "execution_count": null,
      "outputs": []
    },
    {
      "cell_type": "markdown",
      "source": [
        "**Завдання 3**: Визначте дві змінні: `str_value_1`, що містить рядок `Привіт! Мене звати`, і `str_value_2` , що містить ваше імʼя українською. Виведіть фразу разом `Привіт! Мене звати <ваше імʼя>`.\n",
        "\n",
        "<details>\n",
        "<summary>Натисніть тут аби побачити розвʼязок</summary>\n",
        "\n",
        "```python\n",
        "str_value_1 = 'Привіт! Мене звати'\n",
        "str_value_2 = 'Аня'\n",
        "print(str_value_1, str_value_2)\n",
        "\n",
        "```\n",
        "</details>"
      ],
      "metadata": {
        "id": "wIEkiHtICjrF"
      },
      "id": "wIEkiHtICjrF"
    },
    {
      "cell_type": "markdown",
      "id": "0a30aea5",
      "metadata": {
        "id": "0a30aea5"
      },
      "source": [
        "# Введення в аналіз даних і Pandas\n",
        "\n",
        "Щоб проаналізувати набір даних, ви повинні виконати такі загальні дії:\n",
        "\n",
        "- Імпорт бібліотек\n",
        "- Завантаження даних\n",
        "- Дослідження структури даних\n",
        "- Чистка і трансформація типів даних\n",
        "- Візуалізація даних\n",
        "- Аналіз даних (статистичний аналіз, додаваня нових колонок, тощо)\n",
        "- Опис результатів спостережень\n",
        "\n",
        "\n",
        "## Огляд бібліотеки Pandas\n",
        "Pandas — це бібліотека Python, яка використовується для обробки та аналізу даних. У прикладі коду ми імпортували Pandas за допомогою псевдоніма pd, який зазвичай використовується в коді Python."
      ]
    },
    {
      "cell_type": "code",
      "execution_count": null,
      "id": "4bead388",
      "metadata": {
        "ExecuteTime": {
          "end_time": "2023-05-05T13:34:20.184240Z",
          "start_time": "2023-05-05T13:34:18.551240Z"
        },
        "id": "4bead388"
      },
      "outputs": [],
      "source": [
        "import pandas as pd"
      ]
    },
    {
      "cell_type": "markdown",
      "id": "66c268f9",
      "metadata": {
        "id": "66c268f9"
      },
      "source": [
        "## Читання даних із файлів CSV\n",
        "Pandas може читати дані з різних форматів файлів, включаючи файли CSV. У прикладі коду ми використали функцію read_csv() для читання даних із файлу CSV під назвою `avocado.csv`. Отримані дані зберігаються в змінній `df`, скорочено від `dataframe`.\n",
        "\n",
        "В цьому уроці ми викоритовуємо дані про продажі авокадо. Детальний опис даних доступний [тут](https://www.kaggle.com/datasets/neuromusic/avocado-prices).\n",
        "Основні колонки в даних:\n",
        "\n",
        "- `Date` - The date of the observation\n",
        "- `AveragePrice` - the average price of a single avocado\n",
        "- `type` - conventional or organic\n",
        "- `year` - the year\n",
        "- `Region` - the city or region of the observation\n",
        "- `Total Volume` - Total number of avocados sold\n",
        "\n"
      ]
    },
    {
      "cell_type": "markdown",
      "source": [
        "Але перд читанням нам треба замаунтити наш гугл диск."
      ],
      "metadata": {
        "id": "NGQ-19ucvk-w"
      },
      "id": "NGQ-19ucvk-w"
    },
    {
      "cell_type": "code",
      "source": [
        "from google.colab import drive\n",
        "drive.mount('/content/drive')"
      ],
      "metadata": {
        "id": "UEY5sXlLvorf"
      },
      "id": "UEY5sXlLvorf",
      "execution_count": null,
      "outputs": []
    },
    {
      "cell_type": "markdown",
      "source": [
        "Так можна визначити, який шлях до даних буде правильний."
      ],
      "metadata": {
        "id": "fuC3u8AMwLpG"
      },
      "id": "fuC3u8AMwLpG"
    },
    {
      "cell_type": "code",
      "source": [
        "! ls drive/MyDrive/Instagram/'Майстер-клас Python for DA'"
      ],
      "metadata": {
        "id": "aKofiUS6vu8u"
      },
      "id": "aKofiUS6vu8u",
      "execution_count": null,
      "outputs": []
    },
    {
      "cell_type": "code",
      "execution_count": null,
      "id": "2db9987e",
      "metadata": {
        "ExecuteTime": {
          "end_time": "2023-05-05T13:41:41.504945Z",
          "start_time": "2023-05-05T13:41:41.417138Z"
        },
        "id": "2db9987e"
      },
      "outputs": [],
      "source": [
        "df = pd.read_csv(\"drive/MyDrive/Instagram/Майстер-клас Python for DA/avocado.csv\")"
      ]
    },
    {
      "cell_type": "markdown",
      "source": [
        "В першу чергу ми завжди дивимось на основні характеристики наших даних."
      ],
      "metadata": {
        "id": "hkg-aWDiwSi4"
      },
      "id": "hkg-aWDiwSi4"
    },
    {
      "cell_type": "code",
      "execution_count": null,
      "id": "b925401d",
      "metadata": {
        "ExecuteTime": {
          "end_time": "2023-05-05T13:39:43.134853Z",
          "start_time": "2023-05-05T13:39:43.110770Z"
        },
        "id": "b925401d"
      },
      "outputs": [],
      "source": [
        "df.info()"
      ]
    },
    {
      "cell_type": "markdown",
      "source": [
        "Також корисно подивитись на самі дані."
      ],
      "metadata": {
        "id": "zGxn937GwcPw"
      },
      "id": "zGxn937GwcPw"
    },
    {
      "cell_type": "code",
      "execution_count": null,
      "id": "943932f6",
      "metadata": {
        "ExecuteTime": {
          "end_time": "2023-05-05T13:41:57.625060Z",
          "start_time": "2023-05-05T13:41:57.601095Z"
        },
        "id": "943932f6"
      },
      "outputs": [],
      "source": [
        "df.head()"
      ]
    },
    {
      "cell_type": "markdown",
      "source": [
        "Бачимо, що у нас перша колонка якась дивна. Вона не мала в назви в файлі, того зчиталась як `Unnamed: 0`. Подивимось, що в ній за дані? "
      ],
      "metadata": {
        "id": "6MCu43eQ4ZBh"
      },
      "id": "6MCu43eQ4ZBh"
    },
    {
      "cell_type": "code",
      "source": [
        "df['Unnamed: 0']"
      ],
      "metadata": {
        "id": "f7UgoDZqAjYK"
      },
      "id": "f7UgoDZqAjYK",
      "execution_count": null,
      "outputs": []
    },
    {
      "cell_type": "code",
      "source": [
        "df['Unnamed: 0'].value_counts()"
      ],
      "metadata": {
        "id": "04xLJYIKCyjn"
      },
      "id": "04xLJYIKCyjn",
      "execution_count": null,
      "outputs": []
    },
    {
      "cell_type": "markdown",
      "source": [
        "Це схоже на номер тижнів. Перевіримо, а заодно подивимось, як фільтрувати дані."
      ],
      "metadata": {
        "id": "dRAUTtLsDEKg"
      },
      "id": "dRAUTtLsDEKg"
    },
    {
      "cell_type": "code",
      "source": [
        "df[df.region=='Albany'][df.year==2015][df.type=='conventional']"
      ],
      "metadata": {
        "id": "qIWb8-SCEXp-"
      },
      "id": "qIWb8-SCEXp-",
      "execution_count": null,
      "outputs": []
    },
    {
      "cell_type": "markdown",
      "source": [
        "Щось типу зворотнього номеру тижня :) Гадаю, нам ця інформація не стане в нагоді, тож просто видалимо цей стовпець."
      ],
      "metadata": {
        "id": "kP0sKbToE-xT"
      },
      "id": "kP0sKbToE-xT"
    },
    {
      "cell_type": "code",
      "source": [
        "df.drop(columns=['Unnamed: 0'])"
      ],
      "metadata": {
        "id": "vDSFqGBXFJf9"
      },
      "id": "vDSFqGBXFJf9",
      "execution_count": null,
      "outputs": []
    },
    {
      "cell_type": "markdown",
      "source": [
        "Аби застовувати зміни, нам треба записати кудись результат команди."
      ],
      "metadata": {
        "id": "bRtFSf_uFlOA"
      },
      "id": "bRtFSf_uFlOA"
    },
    {
      "cell_type": "code",
      "source": [
        "df = df.drop(columns=['Unnamed: 0'])"
      ],
      "metadata": {
        "id": "nlqo-UXlFmg_"
      },
      "id": "nlqo-UXlFmg_",
      "execution_count": null,
      "outputs": []
    },
    {
      "cell_type": "markdown",
      "source": [
        "Взагалі переглянути які є різні опції у кожної функції чи які є властивості обʼєкта можна наступним чином:"
      ],
      "metadata": {
        "id": "AFjVRQw94s3Z"
      },
      "id": "AFjVRQw94s3Z"
    },
    {
      "cell_type": "code",
      "source": [
        "?pd.read_csv"
      ],
      "metadata": {
        "id": "K5LXioEh49v5"
      },
      "id": "K5LXioEh49v5",
      "execution_count": null,
      "outputs": []
    },
    {
      "cell_type": "code",
      "source": [
        "?df"
      ],
      "metadata": {
        "id": "VeJ11vHP5B89"
      },
      "id": "VeJ11vHP5B89",
      "execution_count": null,
      "outputs": []
    },
    {
      "cell_type": "markdown",
      "source": [
        "Перейменуємо колонки на більш інформативні назви. Колонки з нумеричною назвою насправді означають наступне\n",
        "```\n",
        "4046 - Total number of avocados with PLU 4046 sold\n",
        "4225 - Total number of avocados with PLU 4225 sold\n",
        "4770 - Total number of avocados with PLU 4770 sold\n",
        "```\n",
        "\n",
        "PLU в свою чергу моженмо трактувати наступним чином:\n",
        "\n",
        "```\n",
        "4046: non-organic small/medium Hass Avocados (~3-5 oz)\n",
        "4225: non-organic large Hass Avocados (~8-10 oz)\n",
        "4770: non-organic extra large Hass Avocados (~10-15 oz)\n",
        "```"
      ],
      "metadata": {
        "id": "7IF90qCtwzG_"
      },
      "id": "7IF90qCtwzG_"
    },
    {
      "cell_type": "markdown",
      "source": [
        "Перейменування робиться через метод `rename`."
      ],
      "metadata": {
        "id": "uv26e-nj36sE"
      },
      "id": "uv26e-nj36sE"
    },
    {
      "cell_type": "code",
      "source": [
        "df.rename(columns={'4046': 'Small Number', '4225': 'Large Number', '4770': 'XLarge Number'})"
      ],
      "metadata": {
        "id": "n2vseNpxw3EQ"
      },
      "id": "n2vseNpxw3EQ",
      "execution_count": null,
      "outputs": []
    },
    {
      "cell_type": "markdown",
      "source": [
        "Крім запису змін в ту ж змінну можемо ще скористатись параметром `inplace`."
      ],
      "metadata": {
        "id": "AZ61Kb503_p7"
      },
      "id": "AZ61Kb503_p7"
    },
    {
      "cell_type": "code",
      "source": [
        "df.rename(columns={'4046': 'Small Number', '4225': 'Large Number', '4770': 'XLarge Number'}, inplace=True)"
      ],
      "metadata": {
        "id": "fjIm-7xy4IMA"
      },
      "id": "fjIm-7xy4IMA",
      "execution_count": null,
      "outputs": []
    },
    {
      "cell_type": "markdown",
      "source": [
        "## Валідація даних\n",
        "У нас є колонка `Total Volume`, яка має бути рівною сумі всіх проданих авокадо, в сумочках і поштучно. Перевіримо це."
      ],
      "metadata": {
        "id": "AXiSpyiE-xRz"
      },
      "id": "AXiSpyiE-xRz"
    },
    {
      "cell_type": "code",
      "source": [
        "df[['Small Number', 'Large Number', 'XLarge Number', 'Total Bags']].sum(axis=1)"
      ],
      "metadata": {
        "id": "9ppisf7l-w6I"
      },
      "id": "9ppisf7l-w6I",
      "execution_count": null,
      "outputs": []
    },
    {
      "cell_type": "code",
      "source": [
        "df['Total Volume'].equals(df[['Small Number', 'Large Number', 'XLarge Number', 'Total Bags']].sum(axis=1))"
      ],
      "metadata": {
        "id": "M3ihiV3R_IDg"
      },
      "id": "M3ihiV3R_IDg",
      "execution_count": null,
      "outputs": []
    },
    {
      "cell_type": "markdown",
      "source": [
        "Не всюди умова виконується. Подивимось, в скількох даних не виконується.\n",
        "Для початку запишемо обчислення в окрему колонку."
      ],
      "metadata": {
        "id": "uCqlV4v0F21W"
      },
      "id": "uCqlV4v0F21W"
    },
    {
      "cell_type": "code",
      "source": [
        "df['Check Sum'] = df[['Small Number', 'Large Number', 'XLarge Number', 'Total Bags']].sum(axis=1)"
      ],
      "metadata": {
        "id": "2EGIzqqj_hBA"
      },
      "id": "2EGIzqqj_hBA",
      "execution_count": null,
      "outputs": []
    },
    {
      "cell_type": "markdown",
      "source": [
        "Тепер маємо порівняти наші значення в колонках `Total Volume` і `Check Sum`. Зробимо це спеціальним методом з бібліотеки `numpy`."
      ],
      "metadata": {
        "id": "C6FVEGUgIyQq"
      },
      "id": "C6FVEGUgIyQq"
    },
    {
      "cell_type": "code",
      "source": [
        "import numpy as np"
      ],
      "metadata": {
        "id": "R2QvhAqHG3Ez"
      },
      "id": "R2QvhAqHG3Ez",
      "execution_count": null,
      "outputs": []
    },
    {
      "cell_type": "code",
      "source": [
        "df['Check Passed'] = np.isclose(df['Total Volume'], df['Check Sum'])"
      ],
      "metadata": {
        "id": "_Ogxh34N_qXr"
      },
      "id": "_Ogxh34N_qXr",
      "execution_count": null,
      "outputs": []
    },
    {
      "cell_type": "markdown",
      "source": [
        "Чому нам потрібно використовувати цей метод."
      ],
      "metadata": {
        "id": "Gd5v_FqpJASE"
      },
      "id": "Gd5v_FqpJASE"
    },
    {
      "cell_type": "code",
      "source": [
        "np.isclose(12.5, 12.500000001), 12.5 == 12.500000001"
      ],
      "metadata": {
        "id": "sdPT19hSGptj"
      },
      "id": "sdPT19hSGptj",
      "execution_count": null,
      "outputs": []
    },
    {
      "cell_type": "code",
      "source": [
        "df['Check Passed'].value_counts()"
      ],
      "metadata": {
        "id": "teatpB6qGGE1"
      },
      "id": "teatpB6qGGE1",
      "execution_count": null,
      "outputs": []
    },
    {
      "cell_type": "markdown",
      "source": [
        "**Завдання 4**: \n",
        "Вище ми використали спеціальним метод для порівняння значень типу `float`. Давайте подивимось що б було, аби ми про нього не знали. Створіть колонку `Check Passed Equal`, в яку запишіть результат порівняння через оператор `==` значень у колонках `Total Volume` і `Check Sum`. Після цього виведіть скільки рядків в такому випадку НЕ пройдуть перевірку (тобто ми могли б думати, що там значення `Total Volume` - неправильне). \n",
        "\n",
        "<details>\n",
        "<summary>Натисніть тут аби побачити розвʼязок</summary>\n",
        "\n",
        "```python\n",
        "df['Check Passed Equal'] = df['Total Volume'] == df['Check Sum']\n",
        "df['Check Passed Equal'].value_counts()\n",
        "\n",
        "```\n",
        "\n",
        "А насправді багато з цих рядочків містять коректне значення з доволі великою точністю і вважати обчислення в них неправильними було б некоректно.\n",
        "</details>"
      ],
      "metadata": {
        "id": "oxTHoBPpJUCQ"
      },
      "id": "oxTHoBPpJUCQ"
    },
    {
      "cell_type": "markdown",
      "source": [
        "Подивмось на дані, де у нас не пройшла перевірка."
      ],
      "metadata": {
        "id": "V_q5NmTkJFvv"
      },
      "id": "V_q5NmTkJFvv"
    },
    {
      "cell_type": "code",
      "source": [
        "df[df['Check Passed']==False]"
      ],
      "metadata": {
        "id": "p888PFQEGJN7"
      },
      "id": "p888PFQEGJN7",
      "execution_count": null,
      "outputs": []
    },
    {
      "cell_type": "markdown",
      "source": [
        "Подивимось, чи розбіжність між ообчисленою колонкою і оригінальною - велика."
      ],
      "metadata": {
        "id": "oHXVUCpVJM_W"
      },
      "id": "oHXVUCpVJM_W"
    },
    {
      "cell_type": "code",
      "source": [
        "filtered = df[df['Check Passed']==False] \n",
        "(\n",
        "    (filtered['Total Volume'] - filtered['Check Sum'])/filtered['Check Sum']\n",
        ").hist();"
      ],
      "metadata": {
        "id": "CDMPJqm5HE9E"
      },
      "id": "CDMPJqm5HE9E",
      "execution_count": null,
      "outputs": []
    },
    {
      "cell_type": "markdown",
      "source": [
        "Різниця невелика. Тож, просто замість попердньої колонки ми запишемо наші обчислені дані."
      ],
      "metadata": {
        "id": "9m2xb7O_H6n3"
      },
      "id": "9m2xb7O_H6n3"
    },
    {
      "cell_type": "code",
      "source": [
        "df.rename(columns = {'Total Volume':'Total Volume Errors', 'Check Sum': 'Total Volume'}, inplace=True)"
      ],
      "metadata": {
        "id": "vplJ2NYYIA_a"
      },
      "id": "vplJ2NYYIA_a",
      "execution_count": null,
      "outputs": []
    },
    {
      "cell_type": "markdown",
      "source": [
        "**Завдання 5**: Виведіть перші 5 рядочків оновлених даних аби перевірити, який вигляд вони мають.\n",
        "\n",
        "<details>\n",
        "<summary>Натисніть тут аби побачити розвʼязок</summary>\n",
        "\n",
        "```python\n",
        "df.head()\n",
        "\n",
        "```\n",
        "</details>"
      ],
      "metadata": {
        "id": "Le_mQ1H-IiHA"
      },
      "id": "Le_mQ1H-IiHA"
    },
    {
      "cell_type": "markdown",
      "source": [
        "## Дослідження даних"
      ],
      "metadata": {
        "id": "KQpyrnDG5y1s"
      },
      "id": "KQpyrnDG5y1s"
    },
    {
      "cell_type": "markdown",
      "source": [
        "### Агрегація і фільтрація даних"
      ],
      "metadata": {
        "id": "eUmmORDs9p5s"
      },
      "id": "eUmmORDs9p5s"
    },
    {
      "cell_type": "markdown",
      "source": [
        "Авокадо якого типу продаються більше?"
      ],
      "metadata": {
        "id": "6UnZNGdl6DuM"
      },
      "id": "6UnZNGdl6DuM"
    },
    {
      "cell_type": "code",
      "source": [
        "df_grouped = df.groupby('type').agg(avg_vol=('Total Volume', 'mean')).reset_index()\n",
        "df_grouped['percentage'] = (df_grouped['avg_vol'] / df_grouped['avg_vol'].sum()) * 100"
      ],
      "metadata": {
        "id": "E_JxX38d6Ti4"
      },
      "id": "E_JxX38d6Ti4",
      "execution_count": null,
      "outputs": []
    },
    {
      "cell_type": "code",
      "source": [
        "df_grouped"
      ],
      "metadata": {
        "id": "m0x-IhsH6ZuX"
      },
      "id": "m0x-IhsH6ZuX",
      "execution_count": null,
      "outputs": []
    },
    {
      "cell_type": "code",
      "source": [
        "df_grouped.round(2)"
      ],
      "metadata": {
        "id": "PuDnv03D6rUj"
      },
      "id": "PuDnv03D6rUj",
      "execution_count": null,
      "outputs": []
    },
    {
      "cell_type": "markdown",
      "source": [
        "Отже, авокадо звичайні мають більші обʼєми продажів. А яка різниця у ціні на ці типи авокадо?"
      ],
      "metadata": {
        "id": "yycVafn49v86"
      },
      "id": "yycVafn49v86"
    },
    {
      "cell_type": "code",
      "source": [
        "df.groupby('type').agg('AveragePrice').mean()"
      ],
      "metadata": {
        "id": "eqDK5_-S9vjI"
      },
      "id": "eqDK5_-S9vjI",
      "execution_count": null,
      "outputs": []
    },
    {
      "cell_type": "markdown",
      "source": [
        "В якому регіоні найдешевше і найдорожче звичайне авокадо? Для цього маємо спочатку відфільтрувати дані, а потім загрегувати і відсортувати."
      ],
      "metadata": {
        "id": "8nnNeRHW8_vj"
      },
      "id": "8nnNeRHW8_vj"
    },
    {
      "cell_type": "code",
      "source": [
        "df_conv = df[df['type']=='conventional']"
      ],
      "metadata": {
        "id": "bc_JMMtg9Njn"
      },
      "id": "bc_JMMtg9Njn",
      "execution_count": null,
      "outputs": []
    },
    {
      "cell_type": "code",
      "source": [
        "df_conv_by_region = df_conv.groupby('region').AveragePrice.mean().sort_values()"
      ],
      "metadata": {
        "id": "7SF490EQ-dVo"
      },
      "id": "7SF490EQ-dVo",
      "execution_count": null,
      "outputs": []
    },
    {
      "cell_type": "markdown",
      "source": [
        "Знайдемо максимальне і мінімальне значення."
      ],
      "metadata": {
        "id": "zDWWi8FM_JWB"
      },
      "id": "zDWWi8FM_JWB"
    },
    {
      "cell_type": "code",
      "source": [
        "df_conv_by_region.min(), df_conv_by_region.max()"
      ],
      "metadata": {
        "id": "mBHYGZ1d-l1y"
      },
      "id": "mBHYGZ1d-l1y",
      "execution_count": null,
      "outputs": []
    },
    {
      "cell_type": "markdown",
      "source": [
        "Чудово! Тепер ми можемо знайти назви регіонів з мінімальним і максимальним значеннями."
      ],
      "metadata": {
        "id": "VjZnFK3M_N2K"
      },
      "id": "VjZnFK3M_N2K"
    },
    {
      "cell_type": "code",
      "source": [
        "display(\n",
        "    df_conv_by_region[df_conv_by_region==df_conv_by_region.min()], \n",
        "    df_conv_by_region[df_conv_by_region==df_conv_by_region.max()]\n",
        ")"
      ],
      "metadata": {
        "id": "VDudaHTz-60j"
      },
      "id": "VDudaHTz-60j",
      "execution_count": null,
      "outputs": []
    },
    {
      "cell_type": "markdown",
      "source": [
        "### Візуалізація даних\n",
        "\n",
        "Візуалізуємо і порівняємо динаміку цін на авокадо в цілому, а також за типами."
      ],
      "metadata": {
        "id": "zA30iUb97CnY"
      },
      "id": "zA30iUb97CnY"
    },
    {
      "cell_type": "code",
      "source": [
        "# Перетворимо стовпець \"Date\" на об'єкт datetime і відсортуємо DataFrame за датою\n",
        "df['Date'] = pd.to_datetime(df['Date'], format='%Y-%m-%d')\n",
        "df = df.sort_values(by='Date')"
      ],
      "metadata": {
        "id": "ujvwNqO-7Z1M"
      },
      "id": "ujvwNqO-7Z1M",
      "execution_count": null,
      "outputs": []
    },
    {
      "cell_type": "markdown",
      "source": [
        "Побудова візуалізацій. Для початку імпортуємо дві бібліотеки які нам потрібні."
      ],
      "metadata": {
        "id": "7Ly-7uOy9IUN"
      },
      "id": "7Ly-7uOy9IUN"
    },
    {
      "cell_type": "code",
      "source": [
        "import matplotlib.pyplot as plt\n",
        "import seaborn as sns"
      ],
      "metadata": {
        "id": "rEy9_-nl9PEW"
      },
      "id": "rEy9_-nl9PEW",
      "execution_count": null,
      "outputs": []
    },
    {
      "cell_type": "markdown",
      "source": [
        "Побудуємо для початку найпростіший можливий вигляд графіку."
      ],
      "metadata": {
        "id": "V2bQrXzM9QEK"
      },
      "id": "V2bQrXzM9QEK"
    },
    {
      "cell_type": "code",
      "source": [
        "plt.figure(figsize=(12, 6))\n",
        "plt.plot(df.Date, df.AveragePrice);"
      ],
      "metadata": {
        "id": "hb6v-Nst8qTN"
      },
      "id": "hb6v-Nst8qTN",
      "execution_count": null,
      "outputs": []
    },
    {
      "cell_type": "markdown",
      "source": [
        "Так сталось, бо у нас дані по країнам. Відповідно дані \"скачуть\", бо обʼєми продажів у нас в різних країнах і для різних типів авокадо різні. \"Приблизимо трохи дані\""
      ],
      "metadata": {
        "id": "Rb-OOwvRLHjK"
      },
      "id": "Rb-OOwvRLHjK"
    },
    {
      "cell_type": "code",
      "source": [
        "plt.figure(figsize=(12, 6))\n",
        "plt.plot(df.Date[:1000], df.AveragePrice[:1000]);"
      ],
      "metadata": {
        "id": "qY5NmMU_LbQ2"
      },
      "id": "qY5NmMU_LbQ2",
      "execution_count": null,
      "outputs": []
    },
    {
      "cell_type": "markdown",
      "source": [
        "Що ж робити? Ну, наприклад, агрегувати дані."
      ],
      "metadata": {
        "id": "qZgrJ-xrMxGf"
      },
      "id": "qZgrJ-xrMxGf"
    },
    {
      "cell_type": "code",
      "source": [
        "plt.figure(figsize=(12, 6))\n",
        "plt.plot(df.groupby('Date').AveragePrice.mean());"
      ],
      "metadata": {
        "id": "S4jNeBpZMjlW"
      },
      "id": "S4jNeBpZMjlW",
      "execution_count": null,
      "outputs": []
    },
    {
      "cell_type": "markdown",
      "source": [
        "Ми могли б трансформувати дані, а можемо натомість використати більш \"розумну\" бібліотеку для побудови графіка."
      ],
      "metadata": {
        "id": "_Cv9nqmMLqnG"
      },
      "id": "_Cv9nqmMLqnG"
    },
    {
      "cell_type": "code",
      "source": [
        "plt.figure(figsize=(12, 6))\n",
        "sns.lineplot(x='Date', y='AveragePrice', data=df, alpha=0.3)\n",
        "plt.title('Price Trend');"
      ],
      "metadata": {
        "id": "df2WKQ6h7qfJ"
      },
      "id": "df2WKQ6h7qfJ",
      "execution_count": null,
      "outputs": []
    },
    {
      "cell_type": "markdown",
      "source": [
        "Значно краще, правда? :) \n",
        "Тепер виведемо динаміку по типам авокадо."
      ],
      "metadata": {
        "id": "mzZiCyUuL0ZH"
      },
      "id": "mzZiCyUuL0ZH"
    },
    {
      "cell_type": "code",
      "source": [
        "plt.figure(figsize=(12, 6))\n",
        "sns.lineplot(x='Date', y='AveragePrice', hue='type', data=df, alpha=0.3)\n",
        "plt.title('Price Trend by Type');"
      ],
      "metadata": {
        "id": "TBRNEYcrLz8-"
      },
      "id": "TBRNEYcrLz8-",
      "execution_count": null,
      "outputs": []
    },
    {
      "cell_type": "markdown",
      "source": [
        "**Резюме:**\n",
        "- Органічні авокадо: виходячи зі змін цін протягом тривалого часу, ми бачимо, що вони **дорожчі**.\n",
        "- Звичайні авокадо: виходячи зі змін цін протягом тривалого часу, ми бачимо, що вони **дешевші**."
      ],
      "metadata": {
        "id": "iQpCvp8d56Rf"
      },
      "id": "iQpCvp8d56Rf"
    },
    {
      "cell_type": "markdown",
      "source": [
        "**Завдання 6**: Побудуйте графік динаміки цін на авокадо (обох типів) аналогічни до того, що ми щойно побудували, по типам авокадо, тільки для конкретного регіона - `Chicago`. Проаналізуйте графік. Чи схожа тенденція в Чикаго на загальну? В чому бачите відмінності? Чи було таке, що органічні авокадо були дешевші за звичайні?\n",
        "\n",
        "<details>\n",
        "<summary>Натисніть тут аби побачити розвʼязок</summary>\n",
        "\n",
        "```python\n",
        "plt.figure(figsize=(12, 6))\n",
        "sns.lineplot(x='Date', y='AveragePrice', hue='type', data=df[df['region']=='Chicago'])\n",
        "plt.title('Price Trend by Type');\n",
        "\n",
        "```\n",
        "Найдорожчі авокадо виходять у нас в , а найдешевші - в \n",
        "</details>"
      ],
      "metadata": {
        "id": "IwkmDDzjMgB3"
      },
      "id": "IwkmDDzjMgB3"
    },
    {
      "cell_type": "markdown",
      "source": [
        "Розглянемо ще один вид графіку - гістограма."
      ],
      "metadata": {
        "id": "89v-EyEWPfPI"
      },
      "id": "89v-EyEWPfPI"
    },
    {
      "cell_type": "code",
      "source": [
        "sns.set(style='whitegrid')\n",
        "sns.histplot(x='AveragePrice', data=df);"
      ],
      "metadata": {
        "id": "ZDvxz2RaPtmH"
      },
      "id": "ZDvxz2RaPtmH",
      "execution_count": null,
      "outputs": []
    },
    {
      "cell_type": "markdown",
      "source": [
        "Ми можемо змінити кількість на частоту. А також можемо змінити кількість бінів."
      ],
      "metadata": {
        "id": "GvkHoXBC_mUC"
      },
      "id": "GvkHoXBC_mUC"
    },
    {
      "cell_type": "code",
      "source": [
        "sns.histplot(x='AveragePrice', stat='probability', data=df, bins=20);"
      ],
      "metadata": {
        "id": "-nWa5dGfRHp2"
      },
      "id": "-nWa5dGfRHp2",
      "execution_count": null,
      "outputs": []
    },
    {
      "cell_type": "markdown",
      "source": [
        "Детальніше про параметри методу можна дізнатись вже відомим нам способом через знак питання, або в [документації](https://seaborn.pydata.org/generated/seaborn.histplot.html)."
      ],
      "metadata": {
        "id": "z-6omODCRne8"
      },
      "id": "z-6omODCRne8"
    },
    {
      "cell_type": "markdown",
      "source": [
        "Побудуємо гістограми по типам авокадо."
      ],
      "metadata": {
        "id": "lq2DmZ-vR299"
      },
      "id": "lq2DmZ-vR299"
    },
    {
      "cell_type": "code",
      "source": [
        "sns.histplot(x='AveragePrice', hue='type', data=df);"
      ],
      "metadata": {
        "id": "mN6tOGY4Pnpb"
      },
      "id": "mN6tOGY4Pnpb",
      "execution_count": null,
      "outputs": []
    },
    {
      "cell_type": "markdown",
      "source": [
        "**Завдання 7**: Побудуйте гістограми розподілів цін на авокадо за типами для регіона з найвищою ціною. Ми знаходили цей регіон раніше. В назві графіка зазначте назву регіона і що зображено на графіку (ми вивели розподіл цін на авокадо). \n",
        "\n",
        "<details>\n",
        "<summary>Натисніть тут аби побачити розвʼязок</summary>\n",
        "\n",
        "```python\n",
        "region_name = 'HartfordSpringfield'\n",
        "sns.histplot(x='AveragePrice', hue='type', data=df[df.region==region_name])\n",
        "plt.title('Prices distribution for avocados in '+region_name);\n",
        "```\n",
        "Найдорожчі авокадо виходять у нас в , а найдешевші - в \n",
        "</details>"
      ],
      "metadata": {
        "id": "RqEjTqbr_0LY"
      },
      "id": "RqEjTqbr_0LY"
    },
    {
      "cell_type": "markdown",
      "id": "a6df5dd6",
      "metadata": {
        "id": "a6df5dd6"
      },
      "source": [
        "## Запис у файл CSV"
      ]
    },
    {
      "cell_type": "code",
      "execution_count": null,
      "id": "f492bfc5",
      "metadata": {
        "ExecuteTime": {
          "end_time": "2023-03-10T20:05:23.858485Z",
          "start_time": "2023-03-10T20:05:23.847673Z"
        },
        "id": "f492bfc5"
      },
      "outputs": [],
      "source": [
        "df.to_csv(\"drive/MyDrive/Instagram/Майстер-клас Python for DA/avocado_upd.csv\", index=False)"
      ]
    },
    {
      "cell_type": "markdown",
      "source": [
        "На цьому наш вступна частина у світ програмування і аналізу даних добігла кінця. Буду рада вашим враженням в чаті курсу та відміткам в інстаграмі. Заряджайте своє оточення бажанням вчитись!)"
      ],
      "metadata": {
        "id": "gbz9CDHxDfqX"
      },
      "id": "gbz9CDHxDfqX"
    }
  ],
  "metadata": {
    "kernelspec": {
      "display_name": "Python 3 (ipykernel)",
      "language": "python",
      "name": "python3"
    },
    "language_info": {
      "codemirror_mode": {
        "name": "ipython",
        "version": 3
      },
      "file_extension": ".py",
      "mimetype": "text/x-python",
      "name": "python",
      "nbconvert_exporter": "python",
      "pygments_lexer": "ipython3",
      "version": "3.10.4"
    },
    "toc": {
      "base_numbering": 1,
      "nav_menu": {},
      "number_sections": true,
      "sideBar": true,
      "skip_h1_title": false,
      "title_cell": "Table of Contents",
      "title_sidebar": "Contents",
      "toc_cell": false,
      "toc_position": {},
      "toc_section_display": true,
      "toc_window_display": false
    },
    "colab": {
      "provenance": []
    }
  },
  "nbformat": 4,
  "nbformat_minor": 5
}